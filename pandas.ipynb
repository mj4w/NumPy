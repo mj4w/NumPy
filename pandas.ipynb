{
 "cells": [
  {
   "cell_type": "markdown",
   "id": "d211a084-7371-4ea9-b9f7-63a8649332a7",
   "metadata": {
    "panel-layout": {
     "height": 51.140625,
     "visible": true,
     "width": 100
    }
   },
   "source": [
    "GETTING STARTED WITH PANDAS"
   ]
  },
  {
   "cell_type": "code",
   "execution_count": 2,
   "id": "1411bc52-a282-4a2c-8a7f-ab6ad590b3c4",
   "metadata": {},
   "outputs": [],
   "source": [
    "import pandas as pd"
   ]
  },
  {
   "cell_type": "code",
   "execution_count": 3,
   "id": "976fa3d1-aa92-4e59-9e23-257735a8fc9d",
   "metadata": {},
   "outputs": [],
   "source": [
    "# Pandas Fundamentals\n",
    "# Advance Application for Pandas"
   ]
  },
  {
   "cell_type": "markdown",
   "id": "402b011c-0e2c-44c0-8409-1018870b044b",
   "metadata": {
    "panel-layout": {
     "height": 51.140625,
     "visible": true,
     "width": 100
    }
   },
   "source": [
    "INTRO TO DATAFRAMES"
   ]
  },
  {
   "cell_type": "code",
   "execution_count": 5,
   "id": "ef0a6bb1-6635-4fc0-97d2-e01d9a58aa1a",
   "metadata": {},
   "outputs": [],
   "source": [
    "scores = {\n",
    "    \"name\": ['Ray,', 'Japhy', 'Zosa'],\n",
    "    \"city\": ['San Francisco','San Francsico','Denver'],\n",
    "    \"score\": [75,92,94]\n",
    "}"
   ]
  },
  {
   "cell_type": "code",
   "execution_count": 6,
   "id": "ae126187-1e81-4847-96d2-986488a30f37",
   "metadata": {
    "panel-layout": {
     "height": 119,
     "visible": true,
     "width": 100
    }
   },
   "outputs": [
    {
     "data": {
      "text/html": [
       "<div>\n",
       "<style scoped>\n",
       "    .dataframe tbody tr th:only-of-type {\n",
       "        vertical-align: middle;\n",
       "    }\n",
       "\n",
       "    .dataframe tbody tr th {\n",
       "        vertical-align: top;\n",
       "    }\n",
       "\n",
       "    .dataframe thead th {\n",
       "        text-align: right;\n",
       "    }\n",
       "</style>\n",
       "<table border=\"1\" class=\"dataframe\">\n",
       "  <thead>\n",
       "    <tr style=\"text-align: right;\">\n",
       "      <th></th>\n",
       "      <th>name</th>\n",
       "      <th>city</th>\n",
       "      <th>score</th>\n",
       "    </tr>\n",
       "  </thead>\n",
       "  <tbody>\n",
       "    <tr>\n",
       "      <th>0</th>\n",
       "      <td>Ray,</td>\n",
       "      <td>San Francisco</td>\n",
       "      <td>75</td>\n",
       "    </tr>\n",
       "    <tr>\n",
       "      <th>1</th>\n",
       "      <td>Japhy</td>\n",
       "      <td>San Francsico</td>\n",
       "      <td>92</td>\n",
       "    </tr>\n",
       "    <tr>\n",
       "      <th>2</th>\n",
       "      <td>Zosa</td>\n",
       "      <td>Denver</td>\n",
       "      <td>94</td>\n",
       "    </tr>\n",
       "  </tbody>\n",
       "</table>\n",
       "</div>"
      ],
      "text/plain": [
       "    name           city  score\n",
       "0   Ray,  San Francisco     75\n",
       "1  Japhy  San Francsico     92\n",
       "2   Zosa         Denver     94"
      ]
     },
     "execution_count": 6,
     "metadata": {},
     "output_type": "execute_result"
    }
   ],
   "source": [
    "df = pd.DataFrame(scores)\n",
    "df"
   ]
  },
  {
   "cell_type": "code",
   "execution_count": 7,
   "id": "950f7e04-2624-4765-bf7b-2c29c0e24006",
   "metadata": {
    "panel-layout": {
     "height": 119,
     "visible": true,
     "width": 100
    }
   },
   "outputs": [
    {
     "data": {
      "text/plain": [
       "0    75\n",
       "1    92\n",
       "2    94\n",
       "Name: score, dtype: int64"
      ]
     },
     "execution_count": 7,
     "metadata": {},
     "output_type": "execute_result"
    }
   ],
   "source": [
    "df['score']"
   ]
  },
  {
   "cell_type": "code",
   "execution_count": 8,
   "id": "39315db1-df60-4464-9a4a-76374a6af999",
   "metadata": {},
   "outputs": [],
   "source": [
    "df['name_city'] = df['name'] + '_' + df['city'] # concatenate the name and city"
   ]
  },
  {
   "cell_type": "code",
   "execution_count": 9,
   "id": "fe57cd13-5105-4c7a-8f5a-88107e38aec7",
   "metadata": {
    "panel-layout": {
     "height": 92,
     "visible": true,
     "width": 100
    }
   },
   "outputs": [
    {
     "data": {
      "text/html": [
       "<div>\n",
       "<style scoped>\n",
       "    .dataframe tbody tr th:only-of-type {\n",
       "        vertical-align: middle;\n",
       "    }\n",
       "\n",
       "    .dataframe tbody tr th {\n",
       "        vertical-align: top;\n",
       "    }\n",
       "\n",
       "    .dataframe thead th {\n",
       "        text-align: right;\n",
       "    }\n",
       "</style>\n",
       "<table border=\"1\" class=\"dataframe\">\n",
       "  <thead>\n",
       "    <tr style=\"text-align: right;\">\n",
       "      <th></th>\n",
       "      <th>name</th>\n",
       "      <th>city</th>\n",
       "      <th>score</th>\n",
       "      <th>name_city</th>\n",
       "    </tr>\n",
       "  </thead>\n",
       "  <tbody>\n",
       "    <tr>\n",
       "      <th>1</th>\n",
       "      <td>Japhy</td>\n",
       "      <td>San Francsico</td>\n",
       "      <td>92</td>\n",
       "      <td>Japhy_San Francsico</td>\n",
       "    </tr>\n",
       "    <tr>\n",
       "      <th>2</th>\n",
       "      <td>Zosa</td>\n",
       "      <td>Denver</td>\n",
       "      <td>94</td>\n",
       "      <td>Zosa_Denver</td>\n",
       "    </tr>\n",
       "  </tbody>\n",
       "</table>\n",
       "</div>"
      ],
      "text/plain": [
       "    name           city  score            name_city\n",
       "1  Japhy  San Francsico     92  Japhy_San Francsico\n",
       "2   Zosa         Denver     94          Zosa_Denver"
      ]
     },
     "execution_count": 9,
     "metadata": {},
     "output_type": "execute_result"
    }
   ],
   "source": [
    "df[df['score']>90] # return all score with greater than 90"
   ]
  },
  {
   "cell_type": "code",
   "execution_count": 10,
   "id": "45cc0157-fce4-4134-a812-a4eeba4c71fb",
   "metadata": {
    "panel-layout": {
     "height": 9176,
     "visible": true,
     "width": 100
    }
   },
   "outputs": [
    {
     "data": {
      "text/html": [
       "<div>\n",
       "<style scoped>\n",
       "    .dataframe tbody tr th:only-of-type {\n",
       "        vertical-align: middle;\n",
       "    }\n",
       "\n",
       "    .dataframe tbody tr th {\n",
       "        vertical-align: top;\n",
       "    }\n",
       "\n",
       "    .dataframe thead th {\n",
       "        text-align: right;\n",
       "    }\n",
       "</style>\n",
       "<table border=\"1\" class=\"dataframe\">\n",
       "  <thead>\n",
       "    <tr style=\"text-align: right;\">\n",
       "      <th></th>\n",
       "      <th>id</th>\n",
       "      <th>organization_id</th>\n",
       "      <th>email_address</th>\n",
       "      <th>Unnamed: 3</th>\n",
       "      <th>service_agreement</th>\n",
       "      <th>registration_stage</th>\n",
       "      <th>manager_email</th>\n",
       "      <th>inviter_id</th>\n",
       "      <th>inviter_role</th>\n",
       "      <th>temp_id</th>\n",
       "      <th>...</th>\n",
       "      <th>annual_rate</th>\n",
       "      <th>xero_id</th>\n",
       "      <th>is_sync</th>\n",
       "      <th>is_updated</th>\n",
       "      <th>xero_status</th>\n",
       "      <th>xero_payroll_calendar_id</th>\n",
       "      <th>xero_ordinary_earnings_rate_id</th>\n",
       "      <th>xero_payroll_calendar_type</th>\n",
       "      <th>xero_payroll_calendar_start_date</th>\n",
       "      <th>myob_employee_id</th>\n",
       "    </tr>\n",
       "  </thead>\n",
       "  <tbody>\n",
       "    <tr>\n",
       "      <th>0</th>\n",
       "      <td>540</td>\n",
       "      <td>33</td>\n",
       "      <td>Emmalene@district360.com.au</td>\n",
       "      <td>NaN</td>\n",
       "      <td>NaN</td>\n",
       "      <td>profile-created</td>\n",
       "      <td>NaN</td>\n",
       "      <td>178.0</td>\n",
       "      <td>Admin</td>\n",
       "      <td>NaN</td>\n",
       "      <td>...</td>\n",
       "      <td>0.0</td>\n",
       "      <td>NaN</td>\n",
       "      <td>0</td>\n",
       "      <td>0</td>\n",
       "      <td>NaN</td>\n",
       "      <td>NaN</td>\n",
       "      <td>NaN</td>\n",
       "      <td>NaN</td>\n",
       "      <td>NaN</td>\n",
       "      <td>NaN</td>\n",
       "    </tr>\n",
       "    <tr>\n",
       "      <th>1</th>\n",
       "      <td>541</td>\n",
       "      <td>40</td>\n",
       "      <td>sarazulaikha03@gmail.com</td>\n",
       "      <td>NaN</td>\n",
       "      <td>NaN</td>\n",
       "      <td>profile-created</td>\n",
       "      <td>NaN</td>\n",
       "      <td>38.0</td>\n",
       "      <td>admin</td>\n",
       "      <td>NaN</td>\n",
       "      <td>...</td>\n",
       "      <td>0.0</td>\n",
       "      <td>NaN</td>\n",
       "      <td>0</td>\n",
       "      <td>1</td>\n",
       "      <td>NaN</td>\n",
       "      <td>NaN</td>\n",
       "      <td>NaN</td>\n",
       "      <td>NaN</td>\n",
       "      <td>NaN</td>\n",
       "      <td>NaN</td>\n",
       "    </tr>\n",
       "    <tr>\n",
       "      <th>2</th>\n",
       "      <td>542</td>\n",
       "      <td>40</td>\n",
       "      <td>sdonukmw@sharklasers.com</td>\n",
       "      <td>NaN</td>\n",
       "      <td>NaN</td>\n",
       "      <td>NaN</td>\n",
       "      <td>NaN</td>\n",
       "      <td>NaN</td>\n",
       "      <td>NaN</td>\n",
       "      <td>NaN</td>\n",
       "      <td>...</td>\n",
       "      <td>0.0</td>\n",
       "      <td>NaN</td>\n",
       "      <td>0</td>\n",
       "      <td>1</td>\n",
       "      <td>NaN</td>\n",
       "      <td>NaN</td>\n",
       "      <td>NaN</td>\n",
       "      <td>NaN</td>\n",
       "      <td>NaN</td>\n",
       "      <td>NaN</td>\n",
       "    </tr>\n",
       "    <tr>\n",
       "      <th>3</th>\n",
       "      <td>543</td>\n",
       "      <td>40</td>\n",
       "      <td>NaN</td>\n",
       "      <td>NaN</td>\n",
       "      <td>NaN</td>\n",
       "      <td>NaN</td>\n",
       "      <td>NaN</td>\n",
       "      <td>NaN</td>\n",
       "      <td>NaN</td>\n",
       "      <td>NaN</td>\n",
       "      <td>...</td>\n",
       "      <td>NaN</td>\n",
       "      <td>NaN</td>\n",
       "      <td>0</td>\n",
       "      <td>0</td>\n",
       "      <td>NaN</td>\n",
       "      <td>NaN</td>\n",
       "      <td>NaN</td>\n",
       "      <td>NaN</td>\n",
       "      <td>NaN</td>\n",
       "      <td>NaN</td>\n",
       "    </tr>\n",
       "    <tr>\n",
       "      <th>4</th>\n",
       "      <td>544</td>\n",
       "      <td>40</td>\n",
       "      <td>NaN</td>\n",
       "      <td>NaN</td>\n",
       "      <td>NaN</td>\n",
       "      <td>NaN</td>\n",
       "      <td>NaN</td>\n",
       "      <td>NaN</td>\n",
       "      <td>NaN</td>\n",
       "      <td>NaN</td>\n",
       "      <td>...</td>\n",
       "      <td>NaN</td>\n",
       "      <td>NaN</td>\n",
       "      <td>0</td>\n",
       "      <td>0</td>\n",
       "      <td>NaN</td>\n",
       "      <td>NaN</td>\n",
       "      <td>NaN</td>\n",
       "      <td>NaN</td>\n",
       "      <td>NaN</td>\n",
       "      <td>NaN</td>\n",
       "    </tr>\n",
       "  </tbody>\n",
       "</table>\n",
       "<p>5 rows × 91 columns</p>\n",
       "</div>"
      ],
      "text/plain": [
       "    id  organization_id                email_address  Unnamed: 3  \\\n",
       "0  540               33  Emmalene@district360.com.au         NaN   \n",
       "1  541               40     sarazulaikha03@gmail.com         NaN   \n",
       "2  542               40     sdonukmw@sharklasers.com         NaN   \n",
       "3  543               40                          NaN         NaN   \n",
       "4  544               40                          NaN         NaN   \n",
       "\n",
       "   service_agreement registration_stage  manager_email  inviter_id  \\\n",
       "0                NaN    profile-created            NaN       178.0   \n",
       "1                NaN    profile-created            NaN        38.0   \n",
       "2                NaN                NaN            NaN         NaN   \n",
       "3                NaN                NaN            NaN         NaN   \n",
       "4                NaN                NaN            NaN         NaN   \n",
       "\n",
       "  inviter_role  temp_id  ...  annual_rate  xero_id  is_sync is_updated  \\\n",
       "0        Admin      NaN  ...          0.0      NaN        0          0   \n",
       "1        admin      NaN  ...          0.0      NaN        0          1   \n",
       "2          NaN      NaN  ...          0.0      NaN        0          1   \n",
       "3          NaN      NaN  ...          NaN      NaN        0          0   \n",
       "4          NaN      NaN  ...          NaN      NaN        0          0   \n",
       "\n",
       "  xero_status xero_payroll_calendar_id xero_ordinary_earnings_rate_id  \\\n",
       "0         NaN                      NaN                            NaN   \n",
       "1         NaN                      NaN                            NaN   \n",
       "2         NaN                      NaN                            NaN   \n",
       "3         NaN                      NaN                            NaN   \n",
       "4         NaN                      NaN                            NaN   \n",
       "\n",
       "   xero_payroll_calendar_type xero_payroll_calendar_start_date  \\\n",
       "0                         NaN                              NaN   \n",
       "1                         NaN                              NaN   \n",
       "2                         NaN                              NaN   \n",
       "3                         NaN                              NaN   \n",
       "4                         NaN                              NaN   \n",
       "\n",
       "  myob_employee_id  \n",
       "0              NaN  \n",
       "1              NaN  \n",
       "2              NaN  \n",
       "3              NaN  \n",
       "4              NaN  \n",
       "\n",
       "[5 rows x 91 columns]"
      ]
     },
     "execution_count": 10,
     "metadata": {},
     "output_type": "execute_result"
    }
   ],
   "source": [
    "iris = pd.read_csv('./employee_202401301913.csv')\n",
    "iris"
   ]
  },
  {
   "cell_type": "code",
   "execution_count": 11,
   "id": "177bb202-397b-42b0-86fc-2d6c91bf483e",
   "metadata": {
    "panel-layout": {
     "height": 27.140625,
     "visible": true,
     "width": 100
    }
   },
   "outputs": [
    {
     "data": {
      "text/plain": [
       "(5, 91)"
      ]
     },
     "execution_count": 11,
     "metadata": {},
     "output_type": "execute_result"
    }
   ],
   "source": [
    "iris.shape"
   ]
  },
  {
   "cell_type": "code",
   "execution_count": 12,
   "id": "8808c6a1-ae0b-45ce-aafc-bad0452f759a",
   "metadata": {
    "panel-layout": {
     "height": 764,
     "visible": true,
     "width": 100
    }
   },
   "outputs": [
    {
     "data": {
      "text/html": [
       "<div>\n",
       "<style scoped>\n",
       "    .dataframe tbody tr th:only-of-type {\n",
       "        vertical-align: middle;\n",
       "    }\n",
       "\n",
       "    .dataframe tbody tr th {\n",
       "        vertical-align: top;\n",
       "    }\n",
       "\n",
       "    .dataframe thead th {\n",
       "        text-align: right;\n",
       "    }\n",
       "</style>\n",
       "<table border=\"1\" class=\"dataframe\">\n",
       "  <thead>\n",
       "    <tr style=\"text-align: right;\">\n",
       "      <th></th>\n",
       "      <th>id</th>\n",
       "      <th>organization_id</th>\n",
       "      <th>email_address</th>\n",
       "      <th>Unnamed: 3</th>\n",
       "      <th>service_agreement</th>\n",
       "      <th>registration_stage</th>\n",
       "      <th>manager_email</th>\n",
       "      <th>inviter_id</th>\n",
       "      <th>inviter_role</th>\n",
       "      <th>temp_id</th>\n",
       "      <th>...</th>\n",
       "      <th>annual_rate</th>\n",
       "      <th>xero_id</th>\n",
       "      <th>is_sync</th>\n",
       "      <th>is_updated</th>\n",
       "      <th>xero_status</th>\n",
       "      <th>xero_payroll_calendar_id</th>\n",
       "      <th>xero_ordinary_earnings_rate_id</th>\n",
       "      <th>xero_payroll_calendar_type</th>\n",
       "      <th>xero_payroll_calendar_start_date</th>\n",
       "      <th>myob_employee_id</th>\n",
       "    </tr>\n",
       "  </thead>\n",
       "  <tbody>\n",
       "    <tr>\n",
       "      <th>0</th>\n",
       "      <td>540</td>\n",
       "      <td>33</td>\n",
       "      <td>Emmalene@district360.com.au</td>\n",
       "      <td>NaN</td>\n",
       "      <td>NaN</td>\n",
       "      <td>profile-created</td>\n",
       "      <td>NaN</td>\n",
       "      <td>178.0</td>\n",
       "      <td>Admin</td>\n",
       "      <td>NaN</td>\n",
       "      <td>...</td>\n",
       "      <td>0.0</td>\n",
       "      <td>NaN</td>\n",
       "      <td>0</td>\n",
       "      <td>0</td>\n",
       "      <td>NaN</td>\n",
       "      <td>NaN</td>\n",
       "      <td>NaN</td>\n",
       "      <td>NaN</td>\n",
       "      <td>NaN</td>\n",
       "      <td>NaN</td>\n",
       "    </tr>\n",
       "    <tr>\n",
       "      <th>1</th>\n",
       "      <td>541</td>\n",
       "      <td>40</td>\n",
       "      <td>sarazulaikha03@gmail.com</td>\n",
       "      <td>NaN</td>\n",
       "      <td>NaN</td>\n",
       "      <td>profile-created</td>\n",
       "      <td>NaN</td>\n",
       "      <td>38.0</td>\n",
       "      <td>admin</td>\n",
       "      <td>NaN</td>\n",
       "      <td>...</td>\n",
       "      <td>0.0</td>\n",
       "      <td>NaN</td>\n",
       "      <td>0</td>\n",
       "      <td>1</td>\n",
       "      <td>NaN</td>\n",
       "      <td>NaN</td>\n",
       "      <td>NaN</td>\n",
       "      <td>NaN</td>\n",
       "      <td>NaN</td>\n",
       "      <td>NaN</td>\n",
       "    </tr>\n",
       "    <tr>\n",
       "      <th>2</th>\n",
       "      <td>542</td>\n",
       "      <td>40</td>\n",
       "      <td>sdonukmw@sharklasers.com</td>\n",
       "      <td>NaN</td>\n",
       "      <td>NaN</td>\n",
       "      <td>NaN</td>\n",
       "      <td>NaN</td>\n",
       "      <td>NaN</td>\n",
       "      <td>NaN</td>\n",
       "      <td>NaN</td>\n",
       "      <td>...</td>\n",
       "      <td>0.0</td>\n",
       "      <td>NaN</td>\n",
       "      <td>0</td>\n",
       "      <td>1</td>\n",
       "      <td>NaN</td>\n",
       "      <td>NaN</td>\n",
       "      <td>NaN</td>\n",
       "      <td>NaN</td>\n",
       "      <td>NaN</td>\n",
       "      <td>NaN</td>\n",
       "    </tr>\n",
       "  </tbody>\n",
       "</table>\n",
       "<p>3 rows × 91 columns</p>\n",
       "</div>"
      ],
      "text/plain": [
       "    id  organization_id                email_address  Unnamed: 3  \\\n",
       "0  540               33  Emmalene@district360.com.au         NaN   \n",
       "1  541               40     sarazulaikha03@gmail.com         NaN   \n",
       "2  542               40     sdonukmw@sharklasers.com         NaN   \n",
       "\n",
       "   service_agreement registration_stage  manager_email  inviter_id  \\\n",
       "0                NaN    profile-created            NaN       178.0   \n",
       "1                NaN    profile-created            NaN        38.0   \n",
       "2                NaN                NaN            NaN         NaN   \n",
       "\n",
       "  inviter_role  temp_id  ...  annual_rate  xero_id  is_sync is_updated  \\\n",
       "0        Admin      NaN  ...          0.0      NaN        0          0   \n",
       "1        admin      NaN  ...          0.0      NaN        0          1   \n",
       "2          NaN      NaN  ...          0.0      NaN        0          1   \n",
       "\n",
       "  xero_status xero_payroll_calendar_id xero_ordinary_earnings_rate_id  \\\n",
       "0         NaN                      NaN                            NaN   \n",
       "1         NaN                      NaN                            NaN   \n",
       "2         NaN                      NaN                            NaN   \n",
       "\n",
       "   xero_payroll_calendar_type xero_payroll_calendar_start_date  \\\n",
       "0                         NaN                              NaN   \n",
       "1                         NaN                              NaN   \n",
       "2                         NaN                              NaN   \n",
       "\n",
       "  myob_employee_id  \n",
       "0              NaN  \n",
       "1              NaN  \n",
       "2              NaN  \n",
       "\n",
       "[3 rows x 91 columns]"
      ]
     },
     "execution_count": 12,
     "metadata": {},
     "output_type": "execute_result"
    }
   ],
   "source": [
    "iris.head(3) # read first 3"
   ]
  },
  {
   "cell_type": "code",
   "execution_count": 13,
   "id": "939b5668-5da6-4ade-b182-ccaaf590c2af",
   "metadata": {
    "panel-layout": {
     "height": 704,
     "visible": true,
     "width": 100
    }
   },
   "outputs": [
    {
     "data": {
      "text/html": [
       "<div>\n",
       "<style scoped>\n",
       "    .dataframe tbody tr th:only-of-type {\n",
       "        vertical-align: middle;\n",
       "    }\n",
       "\n",
       "    .dataframe tbody tr th {\n",
       "        vertical-align: top;\n",
       "    }\n",
       "\n",
       "    .dataframe thead th {\n",
       "        text-align: right;\n",
       "    }\n",
       "</style>\n",
       "<table border=\"1\" class=\"dataframe\">\n",
       "  <thead>\n",
       "    <tr style=\"text-align: right;\">\n",
       "      <th></th>\n",
       "      <th>id</th>\n",
       "      <th>organization_id</th>\n",
       "      <th>email_address</th>\n",
       "      <th>Unnamed: 3</th>\n",
       "      <th>service_agreement</th>\n",
       "      <th>registration_stage</th>\n",
       "      <th>manager_email</th>\n",
       "      <th>inviter_id</th>\n",
       "      <th>inviter_role</th>\n",
       "      <th>temp_id</th>\n",
       "      <th>...</th>\n",
       "      <th>annual_rate</th>\n",
       "      <th>xero_id</th>\n",
       "      <th>is_sync</th>\n",
       "      <th>is_updated</th>\n",
       "      <th>xero_status</th>\n",
       "      <th>xero_payroll_calendar_id</th>\n",
       "      <th>xero_ordinary_earnings_rate_id</th>\n",
       "      <th>xero_payroll_calendar_type</th>\n",
       "      <th>xero_payroll_calendar_start_date</th>\n",
       "      <th>myob_employee_id</th>\n",
       "    </tr>\n",
       "  </thead>\n",
       "  <tbody>\n",
       "    <tr>\n",
       "      <th>2</th>\n",
       "      <td>542</td>\n",
       "      <td>40</td>\n",
       "      <td>sdonukmw@sharklasers.com</td>\n",
       "      <td>NaN</td>\n",
       "      <td>NaN</td>\n",
       "      <td>NaN</td>\n",
       "      <td>NaN</td>\n",
       "      <td>NaN</td>\n",
       "      <td>NaN</td>\n",
       "      <td>NaN</td>\n",
       "      <td>...</td>\n",
       "      <td>0.0</td>\n",
       "      <td>NaN</td>\n",
       "      <td>0</td>\n",
       "      <td>1</td>\n",
       "      <td>NaN</td>\n",
       "      <td>NaN</td>\n",
       "      <td>NaN</td>\n",
       "      <td>NaN</td>\n",
       "      <td>NaN</td>\n",
       "      <td>NaN</td>\n",
       "    </tr>\n",
       "    <tr>\n",
       "      <th>3</th>\n",
       "      <td>543</td>\n",
       "      <td>40</td>\n",
       "      <td>NaN</td>\n",
       "      <td>NaN</td>\n",
       "      <td>NaN</td>\n",
       "      <td>NaN</td>\n",
       "      <td>NaN</td>\n",
       "      <td>NaN</td>\n",
       "      <td>NaN</td>\n",
       "      <td>NaN</td>\n",
       "      <td>...</td>\n",
       "      <td>NaN</td>\n",
       "      <td>NaN</td>\n",
       "      <td>0</td>\n",
       "      <td>0</td>\n",
       "      <td>NaN</td>\n",
       "      <td>NaN</td>\n",
       "      <td>NaN</td>\n",
       "      <td>NaN</td>\n",
       "      <td>NaN</td>\n",
       "      <td>NaN</td>\n",
       "    </tr>\n",
       "    <tr>\n",
       "      <th>4</th>\n",
       "      <td>544</td>\n",
       "      <td>40</td>\n",
       "      <td>NaN</td>\n",
       "      <td>NaN</td>\n",
       "      <td>NaN</td>\n",
       "      <td>NaN</td>\n",
       "      <td>NaN</td>\n",
       "      <td>NaN</td>\n",
       "      <td>NaN</td>\n",
       "      <td>NaN</td>\n",
       "      <td>...</td>\n",
       "      <td>NaN</td>\n",
       "      <td>NaN</td>\n",
       "      <td>0</td>\n",
       "      <td>0</td>\n",
       "      <td>NaN</td>\n",
       "      <td>NaN</td>\n",
       "      <td>NaN</td>\n",
       "      <td>NaN</td>\n",
       "      <td>NaN</td>\n",
       "      <td>NaN</td>\n",
       "    </tr>\n",
       "  </tbody>\n",
       "</table>\n",
       "<p>3 rows × 91 columns</p>\n",
       "</div>"
      ],
      "text/plain": [
       "    id  organization_id             email_address  Unnamed: 3  \\\n",
       "2  542               40  sdonukmw@sharklasers.com         NaN   \n",
       "3  543               40                       NaN         NaN   \n",
       "4  544               40                       NaN         NaN   \n",
       "\n",
       "   service_agreement registration_stage  manager_email  inviter_id  \\\n",
       "2                NaN                NaN            NaN         NaN   \n",
       "3                NaN                NaN            NaN         NaN   \n",
       "4                NaN                NaN            NaN         NaN   \n",
       "\n",
       "  inviter_role  temp_id  ...  annual_rate  xero_id  is_sync is_updated  \\\n",
       "2          NaN      NaN  ...          0.0      NaN        0          1   \n",
       "3          NaN      NaN  ...          NaN      NaN        0          0   \n",
       "4          NaN      NaN  ...          NaN      NaN        0          0   \n",
       "\n",
       "  xero_status xero_payroll_calendar_id xero_ordinary_earnings_rate_id  \\\n",
       "2         NaN                      NaN                            NaN   \n",
       "3         NaN                      NaN                            NaN   \n",
       "4         NaN                      NaN                            NaN   \n",
       "\n",
       "   xero_payroll_calendar_type xero_payroll_calendar_start_date  \\\n",
       "2                         NaN                              NaN   \n",
       "3                         NaN                              NaN   \n",
       "4                         NaN                              NaN   \n",
       "\n",
       "  myob_employee_id  \n",
       "2              NaN  \n",
       "3              NaN  \n",
       "4              NaN  \n",
       "\n",
       "[3 rows x 91 columns]"
      ]
     },
     "execution_count": 13,
     "metadata": {},
     "output_type": "execute_result"
    }
   ],
   "source": [
    "iris.tail(3) # read the last 3"
   ]
  },
  {
   "cell_type": "code",
   "execution_count": 14,
   "id": "91be4d86-5f7a-4a45-a26e-065a8fc33ec8",
   "metadata": {
    "panel-layout": {
     "height": 2522,
     "visible": true,
     "width": 100
    }
   },
   "outputs": [
    {
     "data": {
      "text/plain": [
       "id                                    int64\n",
       "organization_id                       int64\n",
       "email_address                        object\n",
       "Unnamed: 3                          float64\n",
       "service_agreement                   float64\n",
       "                                     ...   \n",
       "xero_payroll_calendar_id            float64\n",
       "xero_ordinary_earnings_rate_id      float64\n",
       "xero_payroll_calendar_type          float64\n",
       "xero_payroll_calendar_start_date    float64\n",
       "myob_employee_id                    float64\n",
       "Length: 91, dtype: object"
      ]
     },
     "execution_count": 14,
     "metadata": {},
     "output_type": "execute_result"
    }
   ],
   "source": [
    "iris.dtypes # the variable or the head use"
   ]
  },
  {
   "cell_type": "code",
   "execution_count": 15,
   "id": "855f05f5-0405-4d7a-9b40-5a6651928c3d",
   "metadata": {},
   "outputs": [
    {
     "data": {
      "text/html": [
       "<div>\n",
       "<style scoped>\n",
       "    .dataframe tbody tr th:only-of-type {\n",
       "        vertical-align: middle;\n",
       "    }\n",
       "\n",
       "    .dataframe tbody tr th {\n",
       "        vertical-align: top;\n",
       "    }\n",
       "\n",
       "    .dataframe thead th {\n",
       "        text-align: right;\n",
       "    }\n",
       "</style>\n",
       "<table border=\"1\" class=\"dataframe\">\n",
       "  <thead>\n",
       "    <tr style=\"text-align: right;\">\n",
       "      <th></th>\n",
       "      <th>id</th>\n",
       "      <th>organization_id</th>\n",
       "      <th>email_address</th>\n",
       "      <th>Unnamed: 3</th>\n",
       "      <th>service_agreement</th>\n",
       "      <th>registration_stage</th>\n",
       "      <th>manager_email</th>\n",
       "      <th>inviter_id</th>\n",
       "      <th>inviter_role</th>\n",
       "      <th>temp_id</th>\n",
       "      <th>...</th>\n",
       "      <th>annual_rate</th>\n",
       "      <th>xero_id</th>\n",
       "      <th>is_sync</th>\n",
       "      <th>is_updated</th>\n",
       "      <th>xero_status</th>\n",
       "      <th>xero_payroll_calendar_id</th>\n",
       "      <th>xero_ordinary_earnings_rate_id</th>\n",
       "      <th>xero_payroll_calendar_type</th>\n",
       "      <th>xero_payroll_calendar_start_date</th>\n",
       "      <th>myob_employee_id</th>\n",
       "    </tr>\n",
       "  </thead>\n",
       "  <tbody>\n",
       "    <tr>\n",
       "      <th>3</th>\n",
       "      <td>543</td>\n",
       "      <td>40</td>\n",
       "      <td>NaN</td>\n",
       "      <td>NaN</td>\n",
       "      <td>NaN</td>\n",
       "      <td>NaN</td>\n",
       "      <td>NaN</td>\n",
       "      <td>NaN</td>\n",
       "      <td>NaN</td>\n",
       "      <td>NaN</td>\n",
       "      <td>...</td>\n",
       "      <td>NaN</td>\n",
       "      <td>NaN</td>\n",
       "      <td>0</td>\n",
       "      <td>0</td>\n",
       "      <td>NaN</td>\n",
       "      <td>NaN</td>\n",
       "      <td>NaN</td>\n",
       "      <td>NaN</td>\n",
       "      <td>NaN</td>\n",
       "      <td>NaN</td>\n",
       "    </tr>\n",
       "    <tr>\n",
       "      <th>4</th>\n",
       "      <td>544</td>\n",
       "      <td>40</td>\n",
       "      <td>NaN</td>\n",
       "      <td>NaN</td>\n",
       "      <td>NaN</td>\n",
       "      <td>NaN</td>\n",
       "      <td>NaN</td>\n",
       "      <td>NaN</td>\n",
       "      <td>NaN</td>\n",
       "      <td>NaN</td>\n",
       "      <td>...</td>\n",
       "      <td>NaN</td>\n",
       "      <td>NaN</td>\n",
       "      <td>0</td>\n",
       "      <td>0</td>\n",
       "      <td>NaN</td>\n",
       "      <td>NaN</td>\n",
       "      <td>NaN</td>\n",
       "      <td>NaN</td>\n",
       "      <td>NaN</td>\n",
       "      <td>NaN</td>\n",
       "    </tr>\n",
       "  </tbody>\n",
       "</table>\n",
       "<p>2 rows × 91 columns</p>\n",
       "</div>"
      ],
      "text/plain": [
       "    id  organization_id email_address  Unnamed: 3  service_agreement  \\\n",
       "3  543               40           NaN         NaN                NaN   \n",
       "4  544               40           NaN         NaN                NaN   \n",
       "\n",
       "  registration_stage  manager_email  inviter_id inviter_role  temp_id  ...  \\\n",
       "3                NaN            NaN         NaN          NaN      NaN  ...   \n",
       "4                NaN            NaN         NaN          NaN      NaN  ...   \n",
       "\n",
       "   annual_rate  xero_id  is_sync is_updated xero_status  \\\n",
       "3          NaN      NaN        0          0         NaN   \n",
       "4          NaN      NaN        0          0         NaN   \n",
       "\n",
       "  xero_payroll_calendar_id xero_ordinary_earnings_rate_id  \\\n",
       "3                      NaN                            NaN   \n",
       "4                      NaN                            NaN   \n",
       "\n",
       "   xero_payroll_calendar_type xero_payroll_calendar_start_date  \\\n",
       "3                         NaN                              NaN   \n",
       "4                         NaN                              NaN   \n",
       "\n",
       "  myob_employee_id  \n",
       "3              NaN  \n",
       "4              NaN  \n",
       "\n",
       "[2 rows x 91 columns]"
      ]
     },
     "execution_count": 15,
     "metadata": {},
     "output_type": "execute_result"
    }
   ],
   "source": [
    "iris.loc[3:7] # the starting point and the end point numbers"
   ]
  },
  {
   "cell_type": "code",
   "execution_count": 16,
   "id": "1059fc47-34c4-449d-8292-a7cc40a50ef8",
   "metadata": {},
   "outputs": [
    {
     "data": {
      "text/plain": [
       "40"
      ]
     },
     "execution_count": 16,
     "metadata": {},
     "output_type": "execute_result"
    }
   ],
   "source": [
    "iris.loc[3,'organization_id']"
   ]
  },
  {
   "cell_type": "code",
   "execution_count": 17,
   "id": "94110779-0ed0-4388-be24-b642b8270872",
   "metadata": {},
   "outputs": [
    {
     "data": {
      "text/plain": [
       "544"
      ]
     },
     "execution_count": 17,
     "metadata": {},
     "output_type": "execute_result"
    }
   ],
   "source": [
    "iris.iloc[4,0] # location "
   ]
  },
  {
   "cell_type": "code",
   "execution_count": 18,
   "id": "bdb3b541-8ed3-4470-89a4-de45cab9c53d",
   "metadata": {},
   "outputs": [
    {
     "data": {
      "text/html": [
       "<div>\n",
       "<style scoped>\n",
       "    .dataframe tbody tr th:only-of-type {\n",
       "        vertical-align: middle;\n",
       "    }\n",
       "\n",
       "    .dataframe tbody tr th {\n",
       "        vertical-align: top;\n",
       "    }\n",
       "\n",
       "    .dataframe thead th {\n",
       "        text-align: right;\n",
       "    }\n",
       "</style>\n",
       "<table border=\"1\" class=\"dataframe\">\n",
       "  <thead>\n",
       "    <tr style=\"text-align: right;\">\n",
       "      <th></th>\n",
       "      <th>id</th>\n",
       "      <th>organization_id</th>\n",
       "      <th>email_address</th>\n",
       "      <th>Unnamed: 3</th>\n",
       "      <th>service_agreement</th>\n",
       "      <th>registration_stage</th>\n",
       "      <th>manager_email</th>\n",
       "      <th>inviter_id</th>\n",
       "      <th>inviter_role</th>\n",
       "      <th>temp_id</th>\n",
       "      <th>...</th>\n",
       "      <th>annual_rate</th>\n",
       "      <th>xero_id</th>\n",
       "      <th>is_sync</th>\n",
       "      <th>is_updated</th>\n",
       "      <th>xero_status</th>\n",
       "      <th>xero_payroll_calendar_id</th>\n",
       "      <th>xero_ordinary_earnings_rate_id</th>\n",
       "      <th>xero_payroll_calendar_type</th>\n",
       "      <th>xero_payroll_calendar_start_date</th>\n",
       "      <th>myob_employee_id</th>\n",
       "    </tr>\n",
       "  </thead>\n",
       "  <tbody>\n",
       "    <tr>\n",
       "      <th>0</th>\n",
       "      <td>540</td>\n",
       "      <td>33</td>\n",
       "      <td>Emmalene@district360.com.au</td>\n",
       "      <td>NaN</td>\n",
       "      <td>NaN</td>\n",
       "      <td>profile-created</td>\n",
       "      <td>NaN</td>\n",
       "      <td>178.0</td>\n",
       "      <td>Admin</td>\n",
       "      <td>NaN</td>\n",
       "      <td>...</td>\n",
       "      <td>0.0</td>\n",
       "      <td>NaN</td>\n",
       "      <td>0</td>\n",
       "      <td>0</td>\n",
       "      <td>NaN</td>\n",
       "      <td>NaN</td>\n",
       "      <td>NaN</td>\n",
       "      <td>NaN</td>\n",
       "      <td>NaN</td>\n",
       "      <td>NaN</td>\n",
       "    </tr>\n",
       "    <tr>\n",
       "      <th>1</th>\n",
       "      <td>541</td>\n",
       "      <td>40</td>\n",
       "      <td>sarazulaikha03@gmail.com</td>\n",
       "      <td>NaN</td>\n",
       "      <td>NaN</td>\n",
       "      <td>profile-created</td>\n",
       "      <td>NaN</td>\n",
       "      <td>38.0</td>\n",
       "      <td>admin</td>\n",
       "      <td>NaN</td>\n",
       "      <td>...</td>\n",
       "      <td>0.0</td>\n",
       "      <td>NaN</td>\n",
       "      <td>0</td>\n",
       "      <td>1</td>\n",
       "      <td>NaN</td>\n",
       "      <td>NaN</td>\n",
       "      <td>NaN</td>\n",
       "      <td>NaN</td>\n",
       "      <td>NaN</td>\n",
       "      <td>NaN</td>\n",
       "    </tr>\n",
       "    <tr>\n",
       "      <th>2</th>\n",
       "      <td>542</td>\n",
       "      <td>40</td>\n",
       "      <td>sdonukmw@sharklasers.com</td>\n",
       "      <td>NaN</td>\n",
       "      <td>NaN</td>\n",
       "      <td>NaN</td>\n",
       "      <td>NaN</td>\n",
       "      <td>NaN</td>\n",
       "      <td>NaN</td>\n",
       "      <td>NaN</td>\n",
       "      <td>...</td>\n",
       "      <td>0.0</td>\n",
       "      <td>NaN</td>\n",
       "      <td>0</td>\n",
       "      <td>1</td>\n",
       "      <td>NaN</td>\n",
       "      <td>NaN</td>\n",
       "      <td>NaN</td>\n",
       "      <td>NaN</td>\n",
       "      <td>NaN</td>\n",
       "      <td>NaN</td>\n",
       "    </tr>\n",
       "    <tr>\n",
       "      <th>3</th>\n",
       "      <td>543</td>\n",
       "      <td>40</td>\n",
       "      <td>NaN</td>\n",
       "      <td>NaN</td>\n",
       "      <td>NaN</td>\n",
       "      <td>NaN</td>\n",
       "      <td>NaN</td>\n",
       "      <td>NaN</td>\n",
       "      <td>NaN</td>\n",
       "      <td>NaN</td>\n",
       "      <td>...</td>\n",
       "      <td>NaN</td>\n",
       "      <td>NaN</td>\n",
       "      <td>0</td>\n",
       "      <td>0</td>\n",
       "      <td>NaN</td>\n",
       "      <td>NaN</td>\n",
       "      <td>NaN</td>\n",
       "      <td>NaN</td>\n",
       "      <td>NaN</td>\n",
       "      <td>NaN</td>\n",
       "    </tr>\n",
       "    <tr>\n",
       "      <th>4</th>\n",
       "      <td>544</td>\n",
       "      <td>40</td>\n",
       "      <td>NaN</td>\n",
       "      <td>NaN</td>\n",
       "      <td>NaN</td>\n",
       "      <td>NaN</td>\n",
       "      <td>NaN</td>\n",
       "      <td>NaN</td>\n",
       "      <td>NaN</td>\n",
       "      <td>NaN</td>\n",
       "      <td>...</td>\n",
       "      <td>NaN</td>\n",
       "      <td>NaN</td>\n",
       "      <td>0</td>\n",
       "      <td>0</td>\n",
       "      <td>NaN</td>\n",
       "      <td>NaN</td>\n",
       "      <td>NaN</td>\n",
       "      <td>NaN</td>\n",
       "      <td>NaN</td>\n",
       "      <td>NaN</td>\n",
       "    </tr>\n",
       "  </tbody>\n",
       "</table>\n",
       "<p>5 rows × 91 columns</p>\n",
       "</div>"
      ],
      "text/plain": [
       "    id  organization_id                email_address  Unnamed: 3  \\\n",
       "0  540               33  Emmalene@district360.com.au         NaN   \n",
       "1  541               40     sarazulaikha03@gmail.com         NaN   \n",
       "2  542               40     sdonukmw@sharklasers.com         NaN   \n",
       "3  543               40                          NaN         NaN   \n",
       "4  544               40                          NaN         NaN   \n",
       "\n",
       "   service_agreement registration_stage  manager_email  inviter_id  \\\n",
       "0                NaN    profile-created            NaN       178.0   \n",
       "1                NaN    profile-created            NaN        38.0   \n",
       "2                NaN                NaN            NaN         NaN   \n",
       "3                NaN                NaN            NaN         NaN   \n",
       "4                NaN                NaN            NaN         NaN   \n",
       "\n",
       "  inviter_role  temp_id  ...  annual_rate  xero_id  is_sync is_updated  \\\n",
       "0        Admin      NaN  ...          0.0      NaN        0          0   \n",
       "1        admin      NaN  ...          0.0      NaN        0          1   \n",
       "2          NaN      NaN  ...          0.0      NaN        0          1   \n",
       "3          NaN      NaN  ...          NaN      NaN        0          0   \n",
       "4          NaN      NaN  ...          NaN      NaN        0          0   \n",
       "\n",
       "  xero_status xero_payroll_calendar_id xero_ordinary_earnings_rate_id  \\\n",
       "0         NaN                      NaN                            NaN   \n",
       "1         NaN                      NaN                            NaN   \n",
       "2         NaN                      NaN                            NaN   \n",
       "3         NaN                      NaN                            NaN   \n",
       "4         NaN                      NaN                            NaN   \n",
       "\n",
       "   xero_payroll_calendar_type xero_payroll_calendar_start_date  \\\n",
       "0                         NaN                              NaN   \n",
       "1                         NaN                              NaN   \n",
       "2                         NaN                              NaN   \n",
       "3                         NaN                              NaN   \n",
       "4                         NaN                              NaN   \n",
       "\n",
       "  myob_employee_id  \n",
       "0              NaN  \n",
       "1              NaN  \n",
       "2              NaN  \n",
       "3              NaN  \n",
       "4              NaN  \n",
       "\n",
       "[5 rows x 91 columns]"
      ]
     },
     "execution_count": 18,
     "metadata": {},
     "output_type": "execute_result"
    }
   ],
   "source": [
    "iris.to_csv('./employee_202401301913.csv',index=False)\n",
    "iris"
   ]
  },
  {
   "cell_type": "markdown",
   "id": "13b42a38-c813-405b-9c0a-1198ee0f20ab",
   "metadata": {},
   "source": [
    "PANDAS OPTION"
   ]
  },
  {
   "cell_type": "code",
   "execution_count": 20,
   "id": "a6a41e24-e646-41db-94b6-f44942595845",
   "metadata": {},
   "outputs": [
    {
     "data": {
      "text/html": [
       "<div>\n",
       "<style scoped>\n",
       "    .dataframe tbody tr th:only-of-type {\n",
       "        vertical-align: middle;\n",
       "    }\n",
       "\n",
       "    .dataframe tbody tr th {\n",
       "        vertical-align: top;\n",
       "    }\n",
       "\n",
       "    .dataframe thead th {\n",
       "        text-align: right;\n",
       "    }\n",
       "</style>\n",
       "<table border=\"1\" class=\"dataframe\">\n",
       "  <thead>\n",
       "    <tr style=\"text-align: right;\">\n",
       "      <th></th>\n",
       "      <th>country</th>\n",
       "      <th>year</th>\n",
       "      <th>co2_emissions</th>\n",
       "    </tr>\n",
       "  </thead>\n",
       "  <tbody>\n",
       "    <tr>\n",
       "      <th>0</th>\n",
       "      <td>China</td>\n",
       "      <td>2018</td>\n",
       "      <td>1.006000e+11</td>\n",
       "    </tr>\n",
       "    <tr>\n",
       "      <th>1</th>\n",
       "      <td>United States</td>\n",
       "      <td>2018</td>\n",
       "      <td>5.410000e+09</td>\n",
       "    </tr>\n",
       "    <tr>\n",
       "      <th>2</th>\n",
       "      <td>India</td>\n",
       "      <td>2018</td>\n",
       "      <td>2.650000e+10</td>\n",
       "    </tr>\n",
       "  </tbody>\n",
       "</table>\n",
       "</div>"
      ],
      "text/plain": [
       "         country  year  co2_emissions\n",
       "0          China  2018   1.006000e+11\n",
       "1  United States  2018   5.410000e+09\n",
       "2          India  2018   2.650000e+10"
      ]
     },
     "execution_count": 20,
     "metadata": {},
     "output_type": "execute_result"
    }
   ],
   "source": [
    "emissions = pd.DataFrame(\n",
    "    {\"country\": ['China','United States','India'],\n",
    "     \"year\": ['2018','2018','2018'],\n",
    "     \"co2_emissions\": [100600000000.0,5410000000.0,26500000000.0]}\n",
    ")\n",
    "emissions"
   ]
  },
  {
   "cell_type": "code",
   "execution_count": 21,
   "id": "d9594ad1-7727-455e-8de0-194a51712762",
   "metadata": {},
   "outputs": [
    {
     "data": {
      "text/html": [
       "<div>\n",
       "<style scoped>\n",
       "    .dataframe tbody tr th:only-of-type {\n",
       "        vertical-align: middle;\n",
       "    }\n",
       "\n",
       "    .dataframe tbody tr th {\n",
       "        vertical-align: top;\n",
       "    }\n",
       "\n",
       "    .dataframe thead th {\n",
       "        text-align: right;\n",
       "    }\n",
       "</style>\n",
       "<table border=\"1\" class=\"dataframe\">\n",
       "  <thead>\n",
       "    <tr style=\"text-align: right;\">\n",
       "      <th></th>\n",
       "      <th>country</th>\n",
       "      <th>year</th>\n",
       "      <th>co2_emissions</th>\n",
       "    </tr>\n",
       "  </thead>\n",
       "  <tbody>\n",
       "    <tr>\n",
       "      <th>0</th>\n",
       "      <td>China</td>\n",
       "      <td>2018</td>\n",
       "      <td>1.006000e+11</td>\n",
       "    </tr>\n",
       "    <tr>\n",
       "      <th>...</th>\n",
       "      <td>...</td>\n",
       "      <td>...</td>\n",
       "      <td>...</td>\n",
       "    </tr>\n",
       "    <tr>\n",
       "      <th>2</th>\n",
       "      <td>India</td>\n",
       "      <td>2018</td>\n",
       "      <td>2.650000e+10</td>\n",
       "    </tr>\n",
       "  </tbody>\n",
       "</table>\n",
       "<p>3 rows × 3 columns</p>\n",
       "</div>"
      ],
      "text/plain": [
       "   country  year  co2_emissions\n",
       "0    China  2018   1.006000e+11\n",
       "..     ...   ...            ...\n",
       "2    India  2018   2.650000e+10\n",
       "\n",
       "[3 rows x 3 columns]"
      ]
     },
     "execution_count": 21,
     "metadata": {},
     "output_type": "execute_result"
    }
   ],
   "source": [
    "pd.set_option('display.max_rows',2)\n",
    "emissions"
   ]
  },
  {
   "cell_type": "code",
   "execution_count": 22,
   "id": "47be3195-f0b5-47e1-a3dc-71e88484380a",
   "metadata": {},
   "outputs": [
    {
     "data": {
      "text/html": [
       "<div>\n",
       "<style scoped>\n",
       "    .dataframe tbody tr th:only-of-type {\n",
       "        vertical-align: middle;\n",
       "    }\n",
       "\n",
       "    .dataframe tbody tr th {\n",
       "        vertical-align: top;\n",
       "    }\n",
       "\n",
       "    .dataframe thead th {\n",
       "        text-align: right;\n",
       "    }\n",
       "</style>\n",
       "<table border=\"1\" class=\"dataframe\">\n",
       "  <thead>\n",
       "    <tr style=\"text-align: right;\">\n",
       "      <th></th>\n",
       "      <th>country</th>\n",
       "      <th>...</th>\n",
       "      <th>co2_emissions</th>\n",
       "    </tr>\n",
       "  </thead>\n",
       "  <tbody>\n",
       "    <tr>\n",
       "      <th>0</th>\n",
       "      <td>China</td>\n",
       "      <td>...</td>\n",
       "      <td>1.006000e+11</td>\n",
       "    </tr>\n",
       "    <tr>\n",
       "      <th>...</th>\n",
       "      <td>...</td>\n",
       "      <td>...</td>\n",
       "      <td>...</td>\n",
       "    </tr>\n",
       "    <tr>\n",
       "      <th>2</th>\n",
       "      <td>India</td>\n",
       "      <td>...</td>\n",
       "      <td>2.650000e+10</td>\n",
       "    </tr>\n",
       "  </tbody>\n",
       "</table>\n",
       "<p>3 rows × 3 columns</p>\n",
       "</div>"
      ],
      "text/plain": [
       "   country  ... co2_emissions\n",
       "0    China  ...  1.006000e+11\n",
       "..     ...  ...           ...\n",
       "2    India  ...  2.650000e+10\n",
       "\n",
       "[3 rows x 3 columns]"
      ]
     },
     "execution_count": 22,
     "metadata": {},
     "output_type": "execute_result"
    }
   ],
   "source": [
    "pd.set_option('display.max_columns',2)\n",
    "emissions"
   ]
  },
  {
   "cell_type": "code",
   "execution_count": 23,
   "id": "dd8ba0dd-e001-4881-81e9-d04b55c070b3",
   "metadata": {},
   "outputs": [
    {
     "data": {
      "text/html": [
       "<div>\n",
       "<style scoped>\n",
       "    .dataframe tbody tr th:only-of-type {\n",
       "        vertical-align: middle;\n",
       "    }\n",
       "\n",
       "    .dataframe tbody tr th {\n",
       "        vertical-align: top;\n",
       "    }\n",
       "\n",
       "    .dataframe thead th {\n",
       "        text-align: right;\n",
       "    }\n",
       "</style>\n",
       "<table border=\"1\" class=\"dataframe\">\n",
       "  <thead>\n",
       "    <tr style=\"text-align: right;\">\n",
       "      <th></th>\n",
       "      <th>country</th>\n",
       "      <th>...</th>\n",
       "      <th>co2_emissions</th>\n",
       "    </tr>\n",
       "  </thead>\n",
       "  <tbody>\n",
       "    <tr>\n",
       "      <th>0</th>\n",
       "      <td>China</td>\n",
       "      <td>...</td>\n",
       "      <td>100,600,000,000.00</td>\n",
       "    </tr>\n",
       "    <tr>\n",
       "      <th>...</th>\n",
       "      <td>...</td>\n",
       "      <td>...</td>\n",
       "      <td>...</td>\n",
       "    </tr>\n",
       "    <tr>\n",
       "      <th>2</th>\n",
       "      <td>India</td>\n",
       "      <td>...</td>\n",
       "      <td>26,500,000,000.00</td>\n",
       "    </tr>\n",
       "  </tbody>\n",
       "</table>\n",
       "<p>3 rows × 3 columns</p>\n",
       "</div>"
      ],
      "text/plain": [
       "   country  ...      co2_emissions\n",
       "0    China  ... 100,600,000,000.00\n",
       "..     ...  ...                ...\n",
       "2    India  ...  26,500,000,000.00\n",
       "\n",
       "[3 rows x 3 columns]"
      ]
     },
     "execution_count": 23,
     "metadata": {},
     "output_type": "execute_result"
    }
   ],
   "source": [
    "pd.options.display.float_format = '{:,.2f}'.format\n",
    "emissions"
   ]
  },
  {
   "cell_type": "markdown",
   "id": "1a834247-84a5-4c4e-ba6c-571948372a45",
   "metadata": {},
   "source": [
    "DATA TYPES"
   ]
  },
  {
   "cell_type": "code",
   "execution_count": 25,
   "id": "bc4814d9-ca04-4d21-a0ef-538e94d55bd4",
   "metadata": {},
   "outputs": [
    {
     "data": {
      "text/html": [
       "<div>\n",
       "<style scoped>\n",
       "    .dataframe tbody tr th:only-of-type {\n",
       "        vertical-align: middle;\n",
       "    }\n",
       "\n",
       "    .dataframe tbody tr th {\n",
       "        vertical-align: top;\n",
       "    }\n",
       "\n",
       "    .dataframe thead th {\n",
       "        text-align: right;\n",
       "    }\n",
       "</style>\n",
       "<table border=\"1\" class=\"dataframe\">\n",
       "  <thead>\n",
       "    <tr style=\"text-align: right;\">\n",
       "      <th></th>\n",
       "      <th>method</th>\n",
       "      <th>...</th>\n",
       "      <th>year</th>\n",
       "    </tr>\n",
       "  </thead>\n",
       "  <tbody>\n",
       "    <tr>\n",
       "      <th>0</th>\n",
       "      <td>Radial Velocity</td>\n",
       "      <td>...</td>\n",
       "      <td>2006</td>\n",
       "    </tr>\n",
       "    <tr>\n",
       "      <th>...</th>\n",
       "      <td>...</td>\n",
       "      <td>...</td>\n",
       "      <td>...</td>\n",
       "    </tr>\n",
       "    <tr>\n",
       "      <th>1034</th>\n",
       "      <td>Transit</td>\n",
       "      <td>...</td>\n",
       "      <td>2008</td>\n",
       "    </tr>\n",
       "  </tbody>\n",
       "</table>\n",
       "<p>1035 rows × 6 columns</p>\n",
       "</div>"
      ],
      "text/plain": [
       "               method  ...  year\n",
       "0     Radial Velocity  ...  2006\n",
       "...               ...  ...   ...\n",
       "1034          Transit  ...  2008\n",
       "\n",
       "[1035 rows x 6 columns]"
      ]
     },
     "execution_count": 25,
     "metadata": {},
     "output_type": "execute_result"
    }
   ],
   "source": [
    "planets = pd.read_csv('./planets.csv')\n",
    "planets"
   ]
  },
  {
   "cell_type": "code",
   "execution_count": 26,
   "id": "a0fb6855-ed32-422a-b59a-3e1e50579c6b",
   "metadata": {},
   "outputs": [
    {
     "data": {
      "text/html": [
       "<div>\n",
       "<style scoped>\n",
       "    .dataframe tbody tr th:only-of-type {\n",
       "        vertical-align: middle;\n",
       "    }\n",
       "\n",
       "    .dataframe tbody tr th {\n",
       "        vertical-align: top;\n",
       "    }\n",
       "\n",
       "    .dataframe thead th {\n",
       "        text-align: right;\n",
       "    }\n",
       "</style>\n",
       "<table border=\"1\" class=\"dataframe\">\n",
       "  <thead>\n",
       "    <tr style=\"text-align: right;\">\n",
       "      <th></th>\n",
       "      <th>method</th>\n",
       "      <th>...</th>\n",
       "      <th>year</th>\n",
       "    </tr>\n",
       "  </thead>\n",
       "  <tbody>\n",
       "    <tr>\n",
       "      <th>0</th>\n",
       "      <td>Radial Velocity</td>\n",
       "      <td>...</td>\n",
       "      <td>2006</td>\n",
       "    </tr>\n",
       "    <tr>\n",
       "      <th>...</th>\n",
       "      <td>...</td>\n",
       "      <td>...</td>\n",
       "      <td>...</td>\n",
       "    </tr>\n",
       "    <tr>\n",
       "      <th>2</th>\n",
       "      <td>Radial Velocity</td>\n",
       "      <td>...</td>\n",
       "      <td>2011</td>\n",
       "    </tr>\n",
       "  </tbody>\n",
       "</table>\n",
       "<p>3 rows × 6 columns</p>\n",
       "</div>"
      ],
      "text/plain": [
       "             method  ...  year\n",
       "0   Radial Velocity  ...  2006\n",
       "..              ...  ...   ...\n",
       "2   Radial Velocity  ...  2011\n",
       "\n",
       "[3 rows x 6 columns]"
      ]
     },
     "execution_count": 26,
     "metadata": {},
     "output_type": "execute_result"
    }
   ],
   "source": [
    "planets.head(3)"
   ]
  },
  {
   "cell_type": "code",
   "execution_count": 27,
   "id": "ceeaa2b3-9548-4d23-b569-38713d1e0f14",
   "metadata": {},
   "outputs": [
    {
     "data": {
      "text/plain": [
       "method    object\n",
       "           ...  \n",
       "year       int64\n",
       "Length: 6, dtype: object"
      ]
     },
     "execution_count": 27,
     "metadata": {},
     "output_type": "execute_result"
    }
   ],
   "source": [
    "planets.dtypes"
   ]
  },
  {
   "cell_type": "code",
   "execution_count": 28,
   "id": "cc080417-ff0a-44e2-9c7d-459a2504eddf",
   "metadata": {},
   "outputs": [
    {
     "data": {
      "text/plain": [
       "number       1.79\n",
       "           ...   \n",
       "year     2,009.07\n",
       "Length: 5, dtype: float64"
      ]
     },
     "execution_count": 28,
     "metadata": {},
     "output_type": "execute_result"
    }
   ],
   "source": [
    "planets.mean(numeric_only=True)"
   ]
  },
  {
   "cell_type": "code",
   "execution_count": 29,
   "id": "24332c0f-1bac-49b2-96d4-9d4df2b7b07a",
   "metadata": {},
   "outputs": [
    {
     "data": {
      "text/plain": [
       "number       1.00\n",
       "           ...   \n",
       "year     2,010.00\n",
       "Length: 5, dtype: float64"
      ]
     },
     "execution_count": 29,
     "metadata": {},
     "output_type": "execute_result"
    }
   ],
   "source": [
    "planets.median(numeric_only=True)"
   ]
  },
  {
   "cell_type": "code",
   "execution_count": 30,
   "id": "1c4d367e-3e5c-4720-941c-5ad38d68aec3",
   "metadata": {},
   "outputs": [
    {
     "data": {
      "text/html": [
       "<div>\n",
       "<style scoped>\n",
       "    .dataframe tbody tr th:only-of-type {\n",
       "        vertical-align: middle;\n",
       "    }\n",
       "\n",
       "    .dataframe tbody tr th {\n",
       "        vertical-align: top;\n",
       "    }\n",
       "\n",
       "    .dataframe thead th {\n",
       "        text-align: right;\n",
       "    }\n",
       "</style>\n",
       "<table border=\"1\" class=\"dataframe\">\n",
       "  <thead>\n",
       "    <tr style=\"text-align: right;\">\n",
       "      <th></th>\n",
       "      <th>method</th>\n",
       "      <th>...</th>\n",
       "      <th>year</th>\n",
       "    </tr>\n",
       "  </thead>\n",
       "  <tbody>\n",
       "    <tr>\n",
       "      <th>0</th>\n",
       "      <td>Radial Velocity</td>\n",
       "      <td>...</td>\n",
       "      <td>2,011.00</td>\n",
       "    </tr>\n",
       "    <tr>\n",
       "      <th>...</th>\n",
       "      <td>...</td>\n",
       "      <td>...</td>\n",
       "      <td>...</td>\n",
       "    </tr>\n",
       "    <tr>\n",
       "      <th>3</th>\n",
       "      <td>NaN</td>\n",
       "      <td>...</td>\n",
       "      <td>NaN</td>\n",
       "    </tr>\n",
       "  </tbody>\n",
       "</table>\n",
       "<p>4 rows × 6 columns</p>\n",
       "</div>"
      ],
      "text/plain": [
       "             method  ...     year\n",
       "0   Radial Velocity  ... 2,011.00\n",
       "..              ...  ...      ...\n",
       "3               NaN  ...      NaN\n",
       "\n",
       "[4 rows x 6 columns]"
      ]
     },
     "execution_count": 30,
     "metadata": {},
     "output_type": "execute_result"
    }
   ],
   "source": [
    "planets.mode()"
   ]
  },
  {
   "cell_type": "code",
   "execution_count": 31,
   "id": "d26107d5-3791-4663-8aa0-c0f6b07911b1",
   "metadata": {},
   "outputs": [
    {
     "data": {
      "text/plain": [
       "0.14084507042253522"
      ]
     },
     "execution_count": 31,
     "metadata": {},
     "output_type": "execute_result"
    }
   ],
   "source": [
    "planets['number'][0]/planets['mass'][0]"
   ]
  },
  {
   "cell_type": "code",
   "execution_count": 32,
   "id": "68427c59-6062-44f1-814f-1c5901c65ec5",
   "metadata": {},
   "outputs": [
    {
     "data": {
      "text/plain": [
       "1.0"
      ]
     },
     "execution_count": 32,
     "metadata": {},
     "output_type": "execute_result"
    }
   ],
   "source": [
    "planets['number'][0].astype(float) # change data type using astype"
   ]
  },
  {
   "cell_type": "code",
   "execution_count": 33,
   "id": "581da3cb-3097-4e25-becf-de9cbee854ba",
   "metadata": {},
   "outputs": [
    {
     "data": {
      "text/plain": [
       "7"
      ]
     },
     "execution_count": 33,
     "metadata": {},
     "output_type": "execute_result"
    }
   ],
   "source": [
    "planets['mass'][0].astype(int)"
   ]
  },
  {
   "cell_type": "code",
   "execution_count": 34,
   "id": "0f5cb437-ed20-4748-a9cc-908db1383614",
   "metadata": {},
   "outputs": [
    {
     "data": {
      "text/plain": [
       "'2006'"
      ]
     },
     "execution_count": 34,
     "metadata": {},
     "output_type": "execute_result"
    }
   ],
   "source": [
    "planets['year'][0].astype(str)"
   ]
  },
  {
   "cell_type": "code",
   "execution_count": 35,
   "id": "ec822e1d-a7c4-429c-8222-f3c393aafc62",
   "metadata": {},
   "outputs": [
    {
     "data": {
      "text/plain": [
       "0      2006-01-01\n",
       "          ...    \n",
       "1034   2008-01-01\n",
       "Name: year_dt, Length: 1035, dtype: datetime64[ns]"
      ]
     },
     "execution_count": 35,
     "metadata": {},
     "output_type": "execute_result"
    }
   ],
   "source": [
    "planets['year_dt'] = pd.to_datetime(planets['year'], format='%Y')\n",
    "planets['year_dt']"
   ]
  },
  {
   "cell_type": "markdown",
   "id": "0c7474d5-6cc3-4df8-87f7-986dca5e2ba9",
   "metadata": {},
   "source": [
    "WORKING WITH STRINGS"
   ]
  },
  {
   "cell_type": "code",
   "execution_count": 37,
   "id": "c231c5fe-5443-4693-b314-15de6f7d9df3",
   "metadata": {},
   "outputs": [],
   "source": [
    "names = pd.Series(['Pomeray, CODY','Wagner; Jarry','smith,Ray'])"
   ]
  },
  {
   "cell_type": "code",
   "execution_count": 38,
   "id": "90ea7c4f-b226-4573-b62e-faeee99d1e0d",
   "metadata": {},
   "outputs": [
    {
     "data": {
      "text/plain": [
       "0    Pomeray, CODY\n",
       "         ...      \n",
       "2        smith,Ray\n",
       "Length: 3, dtype: object"
      ]
     },
     "execution_count": 38,
     "metadata": {},
     "output_type": "execute_result"
    }
   ],
   "source": [
    "names = names.str.replace(';',',')\n",
    "names"
   ]
  },
  {
   "cell_type": "code",
   "execution_count": 39,
   "id": "19f821f4-e8a4-4d76-b793-5b2960e9343b",
   "metadata": {},
   "outputs": [
    {
     "data": {
      "text/plain": [
       "0    13\n",
       "     ..\n",
       "2     9\n",
       "Length: 3, dtype: int64"
      ]
     },
     "execution_count": 39,
     "metadata": {},
     "output_type": "execute_result"
    }
   ],
   "source": [
    "names.str.len()"
   ]
  },
  {
   "cell_type": "code",
   "execution_count": 40,
   "id": "63421456-de13-4f78-93e1-7d049eb9e1e4",
   "metadata": {},
   "outputs": [
    {
     "data": {
      "text/plain": [
       "0    13\n",
       "     ..\n",
       "2     9\n",
       "Length: 3, dtype: int64"
      ]
     },
     "execution_count": 40,
     "metadata": {},
     "output_type": "execute_result"
    }
   ],
   "source": [
    "names = names.str.strip()\n",
    "names.str.len()"
   ]
  },
  {
   "cell_type": "code",
   "execution_count": 41,
   "id": "4dbd8924-5d11-415c-86ed-a9896e2a319f",
   "metadata": {},
   "outputs": [
    {
     "data": {
      "text/plain": [
       "0    pomeray, cody\n",
       "         ...      \n",
       "2        smith,ray\n",
       "Length: 3, dtype: object"
      ]
     },
     "execution_count": 41,
     "metadata": {},
     "output_type": "execute_result"
    }
   ],
   "source": [
    "names = names.str.lower()\n",
    "names"
   ]
  },
  {
   "cell_type": "code",
   "execution_count": 42,
   "id": "bb187045-67e4-4046-a7d9-22ef91f09967",
   "metadata": {},
   "outputs": [],
   "source": [
    "names = names.str.split(', ')"
   ]
  },
  {
   "cell_type": "code",
   "execution_count": 43,
   "id": "dfdae2d2-8aa5-47ad-86a8-9f938d0b92f2",
   "metadata": {},
   "outputs": [
    {
     "data": {
      "text/plain": [
       "0    [pomeray, cody]\n",
       "          ...       \n",
       "2        [smith,ray]\n",
       "Length: 3, dtype: object"
      ]
     },
     "execution_count": 43,
     "metadata": {},
     "output_type": "execute_result"
    }
   ],
   "source": [
    "names"
   ]
  },
  {
   "cell_type": "code",
   "execution_count": 44,
   "id": "67aa376d-b86d-4001-960c-2e0fbd5738eb",
   "metadata": {},
   "outputs": [
    {
     "data": {
      "text/plain": [
       "0    [cody, pomeray]\n",
       "          ...       \n",
       "2        [smith,ray]\n",
       "Length: 3, dtype: object"
      ]
     },
     "execution_count": 44,
     "metadata": {},
     "output_type": "execute_result"
    }
   ],
   "source": [
    "names = pd.Series([i[::-1] for i in names])\n",
    "names"
   ]
  },
  {
   "cell_type": "code",
   "execution_count": 45,
   "id": "edbc9b77-dbe5-481c-b139-ae467ff86dc8",
   "metadata": {},
   "outputs": [
    {
     "data": {
      "text/plain": [
       "['cody pomeray', 'jarry wagner', 'smith,ray']"
      ]
     },
     "execution_count": 45,
     "metadata": {},
     "output_type": "execute_result"
    }
   ],
   "source": [
    "names = [' '.join(i) for i in names]\n",
    "names"
   ]
  },
  {
   "cell_type": "markdown",
   "id": "d47733db-7135-4687-9118-0ffd8df3dc3e",
   "metadata": {},
   "source": [
    "WORKING WITH DATES"
   ]
  },
  {
   "cell_type": "code",
   "execution_count": 47,
   "id": "f091d626-52a7-4b78-b60b-8971e2f98b90",
   "metadata": {},
   "outputs": [],
   "source": [
    "daterange = pd.period_range('1/1/2020', freq='30d',periods=4)"
   ]
  },
  {
   "cell_type": "code",
   "execution_count": 48,
   "id": "7c8fc321-e140-4f72-a0d4-054cd46d7a32",
   "metadata": {},
   "outputs": [
    {
     "data": {
      "text/html": [
       "<div>\n",
       "<style scoped>\n",
       "    .dataframe tbody tr th:only-of-type {\n",
       "        vertical-align: middle;\n",
       "    }\n",
       "\n",
       "    .dataframe tbody tr th {\n",
       "        vertical-align: top;\n",
       "    }\n",
       "\n",
       "    .dataframe thead th {\n",
       "        text-align: right;\n",
       "    }\n",
       "</style>\n",
       "<table border=\"1\" class=\"dataframe\">\n",
       "  <thead>\n",
       "    <tr style=\"text-align: right;\">\n",
       "      <th></th>\n",
       "      <th>sample date</th>\n",
       "    </tr>\n",
       "  </thead>\n",
       "  <tbody>\n",
       "    <tr>\n",
       "      <th>0</th>\n",
       "      <td>2020-01-01</td>\n",
       "    </tr>\n",
       "    <tr>\n",
       "      <th>...</th>\n",
       "      <td>...</td>\n",
       "    </tr>\n",
       "    <tr>\n",
       "      <th>3</th>\n",
       "      <td>2020-03-31</td>\n",
       "    </tr>\n",
       "  </tbody>\n",
       "</table>\n",
       "<p>4 rows × 1 columns</p>\n",
       "</div>"
      ],
      "text/plain": [
       "   sample date\n",
       "0   2020-01-01\n",
       "..         ...\n",
       "3   2020-03-31\n",
       "\n",
       "[4 rows x 1 columns]"
      ]
     },
     "execution_count": 48,
     "metadata": {},
     "output_type": "execute_result"
    }
   ],
   "source": [
    "date_df = pd.DataFrame(data=daterange, columns=['sample date'])\n",
    "date_df"
   ]
  },
  {
   "cell_type": "code",
   "execution_count": 49,
   "id": "8f16ce1a-437d-4587-8336-f78faba093a9",
   "metadata": {},
   "outputs": [
    {
     "name": "stderr",
     "output_type": "stream",
     "text": [
      "D:\\appdata\\anaconda\\Lib\\site-packages\\pandas\\core\\arrays\\datetimelike.py:1306: RuntimeWarning: overflow encountered in scalar multiply\n",
      "  new_data = np.array([self.freq.base * x for x in new_i8_data])\n"
     ]
    },
    {
     "data": {
      "text/html": [
       "<div>\n",
       "<style scoped>\n",
       "    .dataframe tbody tr th:only-of-type {\n",
       "        vertical-align: middle;\n",
       "    }\n",
       "\n",
       "    .dataframe tbody tr th {\n",
       "        vertical-align: top;\n",
       "    }\n",
       "\n",
       "    .dataframe thead th {\n",
       "        text-align: right;\n",
       "    }\n",
       "</style>\n",
       "<table border=\"1\" class=\"dataframe\">\n",
       "  <thead>\n",
       "    <tr style=\"text-align: right;\">\n",
       "      <th></th>\n",
       "      <th>sample date</th>\n",
       "      <th>date difference</th>\n",
       "    </tr>\n",
       "  </thead>\n",
       "  <tbody>\n",
       "    <tr>\n",
       "      <th>0</th>\n",
       "      <td>2020-01-01</td>\n",
       "      <td>NaT</td>\n",
       "    </tr>\n",
       "    <tr>\n",
       "      <th>...</th>\n",
       "      <td>...</td>\n",
       "      <td>...</td>\n",
       "    </tr>\n",
       "    <tr>\n",
       "      <th>3</th>\n",
       "      <td>2020-03-31</td>\n",
       "      <td>&lt;30 * Days&gt;</td>\n",
       "    </tr>\n",
       "  </tbody>\n",
       "</table>\n",
       "<p>4 rows × 2 columns</p>\n",
       "</div>"
      ],
      "text/plain": [
       "   sample date date difference\n",
       "0   2020-01-01             NaT\n",
       "..         ...             ...\n",
       "3   2020-03-31     <30 * Days>\n",
       "\n",
       "[4 rows x 2 columns]"
      ]
     },
     "execution_count": 49,
     "metadata": {},
     "output_type": "execute_result"
    }
   ],
   "source": [
    "date_df['date difference'] = date_df['sample date'].diff(periods=1)\n",
    "date_df"
   ]
  },
  {
   "cell_type": "code",
   "execution_count": 50,
   "id": "82b06540-1ce5-43d5-981a-1f69765b41da",
   "metadata": {},
   "outputs": [
    {
     "data": {
      "text/html": [
       "<div>\n",
       "<style scoped>\n",
       "    .dataframe tbody tr th:only-of-type {\n",
       "        vertical-align: middle;\n",
       "    }\n",
       "\n",
       "    .dataframe tbody tr th {\n",
       "        vertical-align: top;\n",
       "    }\n",
       "\n",
       "    .dataframe thead th {\n",
       "        text-align: right;\n",
       "    }\n",
       "</style>\n",
       "<table border=\"1\" class=\"dataframe\">\n",
       "  <thead>\n",
       "    <tr style=\"text-align: right;\">\n",
       "      <th></th>\n",
       "      <th>sample date</th>\n",
       "      <th>...</th>\n",
       "      <th>first of month</th>\n",
       "    </tr>\n",
       "  </thead>\n",
       "  <tbody>\n",
       "    <tr>\n",
       "      <th>0</th>\n",
       "      <td>2020-01-01</td>\n",
       "      <td>...</td>\n",
       "      <td>2020-01-01</td>\n",
       "    </tr>\n",
       "    <tr>\n",
       "      <th>...</th>\n",
       "      <td>...</td>\n",
       "      <td>...</td>\n",
       "      <td>...</td>\n",
       "    </tr>\n",
       "    <tr>\n",
       "      <th>3</th>\n",
       "      <td>2020-03-31</td>\n",
       "      <td>...</td>\n",
       "      <td>2020-03-01</td>\n",
       "    </tr>\n",
       "  </tbody>\n",
       "</table>\n",
       "<p>4 rows × 3 columns</p>\n",
       "</div>"
      ],
      "text/plain": [
       "   sample date  ... first of month\n",
       "0   2020-01-01  ...     2020-01-01\n",
       "..         ...  ...            ...\n",
       "3   2020-03-31  ...     2020-03-01\n",
       "\n",
       "[4 rows x 3 columns]"
      ]
     },
     "execution_count": 50,
     "metadata": {},
     "output_type": "execute_result"
    }
   ],
   "source": [
    "date_df['first of month'] = date_df['sample date'].values.astype('datetime64[M]')\n",
    "date_df"
   ]
  },
  {
   "cell_type": "code",
   "execution_count": 51,
   "id": "797e2559-c346-4f63-b310-1f5768cef846",
   "metadata": {},
   "outputs": [
    {
     "data": {
      "text/plain": [
       "sample date         period[30D]\n",
       "                      ...      \n",
       "first of month    datetime64[s]\n",
       "Length: 3, dtype: object"
      ]
     },
     "execution_count": 51,
     "metadata": {},
     "output_type": "execute_result"
    }
   ],
   "source": [
    "date_df.dtypes"
   ]
  },
  {
   "cell_type": "code",
   "execution_count": 52,
   "id": "b7a48c1a-c54f-42b3-a2d0-ef2cbec36932",
   "metadata": {},
   "outputs": [
    {
     "data": {
      "text/plain": [
       "sample date       datetime64[ns]\n",
       "                       ...      \n",
       "first of month     datetime64[s]\n",
       "Length: 3, dtype: object"
      ]
     },
     "execution_count": 52,
     "metadata": {},
     "output_type": "execute_result"
    }
   ],
   "source": [
    "date_df['sample date'] = date_df['sample date'].dt.to_timestamp()\n",
    "date_df.dtypes"
   ]
  },
  {
   "cell_type": "code",
   "execution_count": 53,
   "id": "cde32031-1a71-48bb-a16e-d0d77754d5d0",
   "metadata": {},
   "outputs": [
    {
     "data": {
      "text/plain": [
       "0    0 days\n",
       "      ...  \n",
       "3   30 days\n",
       "Length: 4, dtype: timedelta64[ns]"
      ]
     },
     "execution_count": 53,
     "metadata": {},
     "output_type": "execute_result"
    }
   ],
   "source": [
    "date_df['sample date'] - date_df['first of month']"
   ]
  },
  {
   "cell_type": "code",
   "execution_count": 54,
   "id": "01208a0d-4645-4590-aeb7-e7a1928261ea",
   "metadata": {},
   "outputs": [
    {
     "name": "stderr",
     "output_type": "stream",
     "text": [
      "C:\\Users\\Marcel James\\AppData\\Local\\Temp\\ipykernel_27564\\608647980.py:1: PerformanceWarning: Adding/subtracting object-dtype array to DatetimeArray not vectorized.\n",
      "  date_df['sample date'] - date_df['date difference']\n"
     ]
    },
    {
     "data": {
      "text/plain": [
       "0                    NaT\n",
       "            ...         \n",
       "3    2020-03-01 00:00:00\n",
       "Length: 4, dtype: object"
      ]
     },
     "execution_count": 54,
     "metadata": {},
     "output_type": "execute_result"
    }
   ],
   "source": [
    "date_df['sample date'] - date_df['date difference']"
   ]
  },
  {
   "cell_type": "code",
   "execution_count": 55,
   "id": "732eaeda-45c1-45b7-8e70-ce5f3bcf5165",
   "metadata": {},
   "outputs": [
    {
     "data": {
      "text/plain": [
       "0   2019-12-02\n",
       "       ...    \n",
       "3   2020-03-01\n",
       "Name: sample date, Length: 4, dtype: datetime64[ns]"
      ]
     },
     "execution_count": 55,
     "metadata": {},
     "output_type": "execute_result"
    }
   ],
   "source": [
    "date_df['sample date'] - pd.Timedelta('30 d')"
   ]
  },
  {
   "cell_type": "code",
   "execution_count": 56,
   "id": "a9f3d3be-ab6c-4d80-b7ee-728ca22336a4",
   "metadata": {},
   "outputs": [
    {
     "data": {
      "text/plain": [
       "0    Wednesday\n",
       "       ...    \n",
       "3      Tuesday\n",
       "Name: sample date, Length: 4, dtype: object"
      ]
     },
     "execution_count": 56,
     "metadata": {},
     "output_type": "execute_result"
    }
   ],
   "source": [
    "date_df['sample date'].dt.day_name() # returning date name "
   ]
  },
  {
   "cell_type": "markdown",
   "id": "3ef7487f-360b-4016-987c-e00c01d840d1",
   "metadata": {},
   "source": [
    "WORKING WITH MISSING DATA"
   ]
  },
  {
   "cell_type": "code",
   "execution_count": 58,
   "id": "6d51980a-1354-4523-8fbe-1f78e4f7ffe4",
   "metadata": {},
   "outputs": [
    {
     "data": {
      "text/html": [
       "<div>\n",
       "<style scoped>\n",
       "    .dataframe tbody tr th:only-of-type {\n",
       "        vertical-align: middle;\n",
       "    }\n",
       "\n",
       "    .dataframe tbody tr th {\n",
       "        vertical-align: top;\n",
       "    }\n",
       "\n",
       "    .dataframe thead th {\n",
       "        text-align: right;\n",
       "    }\n",
       "</style>\n",
       "<table border=\"1\" class=\"dataframe\">\n",
       "  <thead>\n",
       "    <tr style=\"text-align: right;\">\n",
       "      <th></th>\n",
       "      <th>sequence</th>\n",
       "      <th>...</th>\n",
       "      <th>temperature_f</th>\n",
       "    </tr>\n",
       "  </thead>\n",
       "  <tbody>\n",
       "    <tr>\n",
       "      <th>0</th>\n",
       "      <td>1</td>\n",
       "      <td>...</td>\n",
       "      <td>67.24</td>\n",
       "    </tr>\n",
       "    <tr>\n",
       "      <th>...</th>\n",
       "      <td>...</td>\n",
       "      <td>...</td>\n",
       "      <td>...</td>\n",
       "    </tr>\n",
       "    <tr>\n",
       "      <th>4</th>\n",
       "      <td>5</td>\n",
       "      <td>...</td>\n",
       "      <td>49.64</td>\n",
       "    </tr>\n",
       "  </tbody>\n",
       "</table>\n",
       "<p>5 rows × 3 columns</p>\n",
       "</div>"
      ],
      "text/plain": [
       "    sequence  ... temperature_f\n",
       "0          1  ...         67.24\n",
       "..       ...  ...           ...\n",
       "4          5  ...         49.64\n",
       "\n",
       "[5 rows x 3 columns]"
      ]
     },
     "execution_count": 58,
     "metadata": {},
     "output_type": "execute_result"
    }
   ],
   "source": [
    "temps = pd.DataFrame({\n",
    "    \"sequence\":[1,2,3,4,5],\n",
    "    \"measurement_type\": ['actual','actual','actual',None,'estimated'],\n",
    "    \"temperature_f\" : [67.24,84.56,91.61,None,49.64]\n",
    "})\n",
    "temps"
   ]
  },
  {
   "cell_type": "code",
   "execution_count": 59,
   "id": "fe1acdac-5fdf-410b-b017-ee54ec754dd9",
   "metadata": {
    "scrolled": true
   },
   "outputs": [
    {
     "data": {
      "text/html": [
       "<div>\n",
       "<style scoped>\n",
       "    .dataframe tbody tr th:only-of-type {\n",
       "        vertical-align: middle;\n",
       "    }\n",
       "\n",
       "    .dataframe tbody tr th {\n",
       "        vertical-align: top;\n",
       "    }\n",
       "\n",
       "    .dataframe thead th {\n",
       "        text-align: right;\n",
       "    }\n",
       "</style>\n",
       "<table border=\"1\" class=\"dataframe\">\n",
       "  <thead>\n",
       "    <tr style=\"text-align: right;\">\n",
       "      <th></th>\n",
       "      <th>sequence</th>\n",
       "      <th>...</th>\n",
       "      <th>temperature_f</th>\n",
       "    </tr>\n",
       "  </thead>\n",
       "  <tbody>\n",
       "    <tr>\n",
       "      <th>0</th>\n",
       "      <td>False</td>\n",
       "      <td>...</td>\n",
       "      <td>False</td>\n",
       "    </tr>\n",
       "    <tr>\n",
       "      <th>...</th>\n",
       "      <td>...</td>\n",
       "      <td>...</td>\n",
       "      <td>...</td>\n",
       "    </tr>\n",
       "    <tr>\n",
       "      <th>4</th>\n",
       "      <td>False</td>\n",
       "      <td>...</td>\n",
       "      <td>False</td>\n",
       "    </tr>\n",
       "  </tbody>\n",
       "</table>\n",
       "<p>5 rows × 3 columns</p>\n",
       "</div>"
      ],
      "text/plain": [
       "    sequence  ...  temperature_f\n",
       "0      False  ...          False\n",
       "..       ...  ...            ...\n",
       "4      False  ...          False\n",
       "\n",
       "[5 rows x 3 columns]"
      ]
     },
     "execution_count": 59,
     "metadata": {},
     "output_type": "execute_result"
    }
   ],
   "source": [
    "temps.isna() # to identify null values in dateframe "
   ]
  },
  {
   "cell_type": "code",
   "execution_count": 60,
   "id": "a58895a9-2981-4fd6-ab68-aee1addd777c",
   "metadata": {},
   "outputs": [
    {
     "data": {
      "text/plain": [
       "0    67.24\n",
       "     ...  \n",
       "4   293.05\n",
       "Name: temperature_f, Length: 5, dtype: float64"
      ]
     },
     "execution_count": 60,
     "metadata": {},
     "output_type": "execute_result"
    }
   ],
   "source": [
    "temps['temperature_f'].cumsum() # cumulative sum"
   ]
  },
  {
   "cell_type": "code",
   "execution_count": 61,
   "id": "a5893426-d375-4cb6-b373-e2490d899149",
   "metadata": {},
   "outputs": [
    {
     "data": {
      "text/plain": [
       "0   67.24\n",
       "     ... \n",
       "4     NaN\n",
       "Name: temperature_f, Length: 5, dtype: float64"
      ]
     },
     "execution_count": 61,
     "metadata": {},
     "output_type": "execute_result"
    }
   ],
   "source": [
    "temps['temperature_f'].cumsum(skipna=False)"
   ]
  },
  {
   "cell_type": "code",
   "execution_count": 62,
   "id": "63f04b14-f04c-414f-896b-4760c1757f71",
   "metadata": {},
   "outputs": [
    {
     "data": {
      "text/html": [
       "<div>\n",
       "<style scoped>\n",
       "    .dataframe tbody tr th:only-of-type {\n",
       "        vertical-align: middle;\n",
       "    }\n",
       "\n",
       "    .dataframe tbody tr th {\n",
       "        vertical-align: top;\n",
       "    }\n",
       "\n",
       "    .dataframe thead th {\n",
       "        text-align: right;\n",
       "    }\n",
       "</style>\n",
       "<table border=\"1\" class=\"dataframe\">\n",
       "  <thead>\n",
       "    <tr style=\"text-align: right;\">\n",
       "      <th></th>\n",
       "      <th>sequence</th>\n",
       "      <th>temperature_f</th>\n",
       "    </tr>\n",
       "    <tr>\n",
       "      <th>measurement_type</th>\n",
       "      <th></th>\n",
       "      <th></th>\n",
       "    </tr>\n",
       "  </thead>\n",
       "  <tbody>\n",
       "    <tr>\n",
       "      <th>actual</th>\n",
       "      <td>3</td>\n",
       "      <td>91.61</td>\n",
       "    </tr>\n",
       "    <tr>\n",
       "      <th>...</th>\n",
       "      <td>...</td>\n",
       "      <td>...</td>\n",
       "    </tr>\n",
       "    <tr>\n",
       "      <th>NaN</th>\n",
       "      <td>4</td>\n",
       "      <td>NaN</td>\n",
       "    </tr>\n",
       "  </tbody>\n",
       "</table>\n",
       "<p>3 rows × 2 columns</p>\n",
       "</div>"
      ],
      "text/plain": [
       "                  sequence  temperature_f\n",
       "measurement_type                         \n",
       "actual                   3          91.61\n",
       "...                    ...            ...\n",
       "NaN                      4            NaN\n",
       "\n",
       "[3 rows x 2 columns]"
      ]
     },
     "execution_count": 62,
     "metadata": {},
     "output_type": "execute_result"
    }
   ],
   "source": [
    "# can specify to retain NA dimensions in grouping\n",
    "temps.groupby(by=['measurement_type'], dropna=False).max()"
   ]
  },
  {
   "cell_type": "code",
   "execution_count": 63,
   "id": "ddc2d43e-07ed-4164-83d2-7f7ff7f1780d",
   "metadata": {},
   "outputs": [
    {
     "data": {
      "text/html": [
       "<div>\n",
       "<style scoped>\n",
       "    .dataframe tbody tr th:only-of-type {\n",
       "        vertical-align: middle;\n",
       "    }\n",
       "\n",
       "    .dataframe tbody tr th {\n",
       "        vertical-align: top;\n",
       "    }\n",
       "\n",
       "    .dataframe thead th {\n",
       "        text-align: right;\n",
       "    }\n",
       "</style>\n",
       "<table border=\"1\" class=\"dataframe\">\n",
       "  <thead>\n",
       "    <tr style=\"text-align: right;\">\n",
       "      <th></th>\n",
       "      <th>sequence</th>\n",
       "      <th>...</th>\n",
       "      <th>temperature_f</th>\n",
       "    </tr>\n",
       "  </thead>\n",
       "  <tbody>\n",
       "    <tr>\n",
       "      <th>0</th>\n",
       "      <td>1</td>\n",
       "      <td>...</td>\n",
       "      <td>67.24</td>\n",
       "    </tr>\n",
       "    <tr>\n",
       "      <th>...</th>\n",
       "      <td>...</td>\n",
       "      <td>...</td>\n",
       "      <td>...</td>\n",
       "    </tr>\n",
       "    <tr>\n",
       "      <th>4</th>\n",
       "      <td>5</td>\n",
       "      <td>...</td>\n",
       "      <td>49.64</td>\n",
       "    </tr>\n",
       "  </tbody>\n",
       "</table>\n",
       "<p>4 rows × 3 columns</p>\n",
       "</div>"
      ],
      "text/plain": [
       "    sequence  ... temperature_f\n",
       "0          1  ...         67.24\n",
       "..       ...  ...           ...\n",
       "4          5  ...         49.64\n",
       "\n",
       "[4 rows x 3 columns]"
      ]
     },
     "execution_count": 63,
     "metadata": {},
     "output_type": "execute_result"
    }
   ],
   "source": [
    "# drop rows with the null using axis = 0 (default)\n",
    "temps.dropna()"
   ]
  },
  {
   "cell_type": "code",
   "execution_count": 64,
   "id": "264b0c34-2e8e-42aa-ad59-d47b5f6e96fa",
   "metadata": {},
   "outputs": [
    {
     "data": {
      "text/html": [
       "<div>\n",
       "<style scoped>\n",
       "    .dataframe tbody tr th:only-of-type {\n",
       "        vertical-align: middle;\n",
       "    }\n",
       "\n",
       "    .dataframe tbody tr th {\n",
       "        vertical-align: top;\n",
       "    }\n",
       "\n",
       "    .dataframe thead th {\n",
       "        text-align: right;\n",
       "    }\n",
       "</style>\n",
       "<table border=\"1\" class=\"dataframe\">\n",
       "  <thead>\n",
       "    <tr style=\"text-align: right;\">\n",
       "      <th></th>\n",
       "      <th>sequence</th>\n",
       "    </tr>\n",
       "  </thead>\n",
       "  <tbody>\n",
       "    <tr>\n",
       "      <th>0</th>\n",
       "      <td>1</td>\n",
       "    </tr>\n",
       "    <tr>\n",
       "      <th>...</th>\n",
       "      <td>...</td>\n",
       "    </tr>\n",
       "    <tr>\n",
       "      <th>4</th>\n",
       "      <td>5</td>\n",
       "    </tr>\n",
       "  </tbody>\n",
       "</table>\n",
       "<p>5 rows × 1 columns</p>\n",
       "</div>"
      ],
      "text/plain": [
       "    sequence\n",
       "0          1\n",
       "..       ...\n",
       "4          5\n",
       "\n",
       "[5 rows x 1 columns]"
      ]
     },
     "execution_count": 64,
     "metadata": {},
     "output_type": "execute_result"
    }
   ],
   "source": [
    "# drop columns with null using axis=1\n",
    "temps.dropna(axis=1)"
   ]
  },
  {
   "cell_type": "code",
   "execution_count": 65,
   "id": "84eb4047-6664-469b-bf49-f35c10e2d55f",
   "metadata": {},
   "outputs": [
    {
     "data": {
      "text/html": [
       "<div>\n",
       "<style scoped>\n",
       "    .dataframe tbody tr th:only-of-type {\n",
       "        vertical-align: middle;\n",
       "    }\n",
       "\n",
       "    .dataframe tbody tr th {\n",
       "        vertical-align: top;\n",
       "    }\n",
       "\n",
       "    .dataframe thead th {\n",
       "        text-align: right;\n",
       "    }\n",
       "</style>\n",
       "<table border=\"1\" class=\"dataframe\">\n",
       "  <thead>\n",
       "    <tr style=\"text-align: right;\">\n",
       "      <th></th>\n",
       "      <th>sequence</th>\n",
       "      <th>...</th>\n",
       "      <th>temperature_f</th>\n",
       "    </tr>\n",
       "  </thead>\n",
       "  <tbody>\n",
       "    <tr>\n",
       "      <th>0</th>\n",
       "      <td>1</td>\n",
       "      <td>...</td>\n",
       "      <td>67.24</td>\n",
       "    </tr>\n",
       "    <tr>\n",
       "      <th>...</th>\n",
       "      <td>...</td>\n",
       "      <td>...</td>\n",
       "      <td>...</td>\n",
       "    </tr>\n",
       "    <tr>\n",
       "      <th>4</th>\n",
       "      <td>5</td>\n",
       "      <td>...</td>\n",
       "      <td>49.64</td>\n",
       "    </tr>\n",
       "  </tbody>\n",
       "</table>\n",
       "<p>5 rows × 3 columns</p>\n",
       "</div>"
      ],
      "text/plain": [
       "    sequence  ... temperature_f\n",
       "0          1  ...         67.24\n",
       "..       ...  ...           ...\n",
       "4          5  ...         49.64\n",
       "\n",
       "[5 rows x 3 columns]"
      ]
     },
     "execution_count": 65,
     "metadata": {},
     "output_type": "execute_result"
    }
   ],
   "source": [
    "temps.fillna(0)"
   ]
  },
  {
   "cell_type": "code",
   "execution_count": 66,
   "id": "ec47a1c5-9962-48d1-abb0-81dff49674b0",
   "metadata": {},
   "outputs": [
    {
     "data": {
      "text/html": [
       "<div>\n",
       "<style scoped>\n",
       "    .dataframe tbody tr th:only-of-type {\n",
       "        vertical-align: middle;\n",
       "    }\n",
       "\n",
       "    .dataframe tbody tr th {\n",
       "        vertical-align: top;\n",
       "    }\n",
       "\n",
       "    .dataframe thead th {\n",
       "        text-align: right;\n",
       "    }\n",
       "</style>\n",
       "<table border=\"1\" class=\"dataframe\">\n",
       "  <thead>\n",
       "    <tr style=\"text-align: right;\">\n",
       "      <th></th>\n",
       "      <th>sequence</th>\n",
       "      <th>...</th>\n",
       "      <th>temperature_f</th>\n",
       "    </tr>\n",
       "  </thead>\n",
       "  <tbody>\n",
       "    <tr>\n",
       "      <th>0</th>\n",
       "      <td>1</td>\n",
       "      <td>...</td>\n",
       "      <td>67.24</td>\n",
       "    </tr>\n",
       "    <tr>\n",
       "      <th>...</th>\n",
       "      <td>...</td>\n",
       "      <td>...</td>\n",
       "      <td>...</td>\n",
       "    </tr>\n",
       "    <tr>\n",
       "      <th>4</th>\n",
       "      <td>5</td>\n",
       "      <td>...</td>\n",
       "      <td>49.64</td>\n",
       "    </tr>\n",
       "  </tbody>\n",
       "</table>\n",
       "<p>5 rows × 3 columns</p>\n",
       "</div>"
      ],
      "text/plain": [
       "    sequence  ... temperature_f\n",
       "0          1  ...         67.24\n",
       "..       ...  ...           ...\n",
       "4          5  ...         49.64\n",
       "\n",
       "[5 rows x 3 columns]"
      ]
     },
     "execution_count": 66,
     "metadata": {},
     "output_type": "execute_result"
    }
   ],
   "source": [
    "temps.ffill()"
   ]
  },
  {
   "cell_type": "code",
   "execution_count": 67,
   "id": "84fbcd51-7217-4425-b517-91f1c004e523",
   "metadata": {
    "scrolled": true
   },
   "outputs": [
    {
     "data": {
      "text/html": [
       "<div>\n",
       "<style scoped>\n",
       "    .dataframe tbody tr th:only-of-type {\n",
       "        vertical-align: middle;\n",
       "    }\n",
       "\n",
       "    .dataframe tbody tr th {\n",
       "        vertical-align: top;\n",
       "    }\n",
       "\n",
       "    .dataframe thead th {\n",
       "        text-align: right;\n",
       "    }\n",
       "</style>\n",
       "<table border=\"1\" class=\"dataframe\">\n",
       "  <thead>\n",
       "    <tr style=\"text-align: right;\">\n",
       "      <th></th>\n",
       "      <th>sequence</th>\n",
       "      <th>...</th>\n",
       "      <th>temperature_f</th>\n",
       "    </tr>\n",
       "  </thead>\n",
       "  <tbody>\n",
       "    <tr>\n",
       "      <th>0</th>\n",
       "      <td>1</td>\n",
       "      <td>...</td>\n",
       "      <td>67.24</td>\n",
       "    </tr>\n",
       "    <tr>\n",
       "      <th>...</th>\n",
       "      <td>...</td>\n",
       "      <td>...</td>\n",
       "      <td>...</td>\n",
       "    </tr>\n",
       "    <tr>\n",
       "      <th>4</th>\n",
       "      <td>5</td>\n",
       "      <td>...</td>\n",
       "      <td>49.64</td>\n",
       "    </tr>\n",
       "  </tbody>\n",
       "</table>\n",
       "<p>5 rows × 3 columns</p>\n",
       "</div>"
      ],
      "text/plain": [
       "    sequence  ... temperature_f\n",
       "0          1  ...         67.24\n",
       "..       ...  ...           ...\n",
       "4          5  ...         49.64\n",
       "\n",
       "[5 rows x 3 columns]"
      ]
     },
     "execution_count": 67,
     "metadata": {},
     "output_type": "execute_result"
    }
   ],
   "source": [
    "temps.infer_objects()"
   ]
  },
  {
   "cell_type": "markdown",
   "id": "b5cfa5d8-0d2d-4ea1-9249-e693398253bd",
   "metadata": {},
   "source": [
    "APPLY, MAP and APPLYMAP"
   ]
  },
  {
   "cell_type": "code",
   "execution_count": 69,
   "id": "5747efc2-1ffc-4411-8df7-9dc5bbae23b7",
   "metadata": {},
   "outputs": [
    {
     "data": {
      "text/html": [
       "<div>\n",
       "<style scoped>\n",
       "    .dataframe tbody tr th:only-of-type {\n",
       "        vertical-align: middle;\n",
       "    }\n",
       "\n",
       "    .dataframe tbody tr th {\n",
       "        vertical-align: top;\n",
       "    }\n",
       "\n",
       "    .dataframe thead th {\n",
       "        text-align: right;\n",
       "    }\n",
       "</style>\n",
       "<table border=\"1\" class=\"dataframe\">\n",
       "  <thead>\n",
       "    <tr style=\"text-align: right;\">\n",
       "      <th></th>\n",
       "      <th>Region</th>\n",
       "      <th>...</th>\n",
       "      <th>Cost</th>\n",
       "    </tr>\n",
       "  </thead>\n",
       "  <tbody>\n",
       "    <tr>\n",
       "      <th>0</th>\n",
       "      <td>North</td>\n",
       "      <td>...</td>\n",
       "      <td>5200</td>\n",
       "    </tr>\n",
       "    <tr>\n",
       "      <th>...</th>\n",
       "      <td>...</td>\n",
       "      <td>...</td>\n",
       "      <td>...</td>\n",
       "    </tr>\n",
       "    <tr>\n",
       "      <th>7</th>\n",
       "      <td>South</td>\n",
       "      <td>...</td>\n",
       "      <td>50</td>\n",
       "    </tr>\n",
       "  </tbody>\n",
       "</table>\n",
       "<p>8 rows × 5 columns</p>\n",
       "</div>"
      ],
      "text/plain": [
       "   Region  ...  Cost\n",
       "0   North  ...  5200\n",
       "..    ...  ...   ...\n",
       "7   South  ...    50\n",
       "\n",
       "[8 rows x 5 columns]"
      ]
     },
     "execution_count": 69,
     "metadata": {},
     "output_type": "execute_result"
    }
   ],
   "source": [
    "df = pd.DataFrame({\n",
    "    \"Region\": ['North','West','East','South','North','West','East','South'],\n",
    "    \"Team\": ['One','One','One','One','Two','Two','Two','Two'],\n",
    "    \"Squad\": ['A','B','C','D','E','F','G','H'],\n",
    "    \"Revenue\": [7500,5500,2750,6400,2300,3750,1900,575],\n",
    "    \"Cost\": [5200,5100,4400,5300,1250,1300,2100,50]\n",
    "})\n",
    "df"
   ]
  },
  {
   "cell_type": "code",
   "execution_count": 70,
   "id": "8aa553b0-9802-4532-971f-439b5cd33298",
   "metadata": {},
   "outputs": [
    {
     "data": {
      "text/html": [
       "<div>\n",
       "<style scoped>\n",
       "    .dataframe tbody tr th:only-of-type {\n",
       "        vertical-align: middle;\n",
       "    }\n",
       "\n",
       "    .dataframe tbody tr th {\n",
       "        vertical-align: top;\n",
       "    }\n",
       "\n",
       "    .dataframe thead th {\n",
       "        text-align: right;\n",
       "    }\n",
       "</style>\n",
       "<table border=\"1\" class=\"dataframe\">\n",
       "  <thead>\n",
       "    <tr style=\"text-align: right;\">\n",
       "      <th></th>\n",
       "      <th>Region</th>\n",
       "      <th>...</th>\n",
       "      <th>Profit</th>\n",
       "    </tr>\n",
       "  </thead>\n",
       "  <tbody>\n",
       "    <tr>\n",
       "      <th>0</th>\n",
       "      <td>North</td>\n",
       "      <td>...</td>\n",
       "      <td>Profit</td>\n",
       "    </tr>\n",
       "    <tr>\n",
       "      <th>...</th>\n",
       "      <td>...</td>\n",
       "      <td>...</td>\n",
       "      <td>...</td>\n",
       "    </tr>\n",
       "    <tr>\n",
       "      <th>7</th>\n",
       "      <td>South</td>\n",
       "      <td>...</td>\n",
       "      <td>Profit</td>\n",
       "    </tr>\n",
       "  </tbody>\n",
       "</table>\n",
       "<p>8 rows × 6 columns</p>\n",
       "</div>"
      ],
      "text/plain": [
       "   Region  ...  Profit\n",
       "0   North  ...  Profit\n",
       "..    ...  ...     ...\n",
       "7   South  ...  Profit\n",
       "\n",
       "[8 rows x 6 columns]"
      ]
     },
     "execution_count": 70,
     "metadata": {},
     "output_type": "execute_result"
    }
   ],
   "source": [
    "# use apply() to alter values along an axis in your dataframe or in a series by applying a function\n",
    "df['Profit'] = df.apply(lambda x: 'Profit' if x['Revenue']>x['Cost'] else 'Loss', axis=1)\n",
    "df"
   ]
  },
  {
   "cell_type": "code",
   "execution_count": 71,
   "id": "73e80b15-cfec-4ae0-9512-e3d84b978cb9",
   "metadata": {},
   "outputs": [],
   "source": [
    "# use map to substitue each values in a series, using either a function, dictionary, or series\n",
    "team_map = {\"One\":\"Red\",\"Two\":\"Blue\"}"
   ]
  },
  {
   "cell_type": "code",
   "execution_count": 72,
   "id": "f30fa750-3646-4027-94e1-a47482250682",
   "metadata": {},
   "outputs": [
    {
     "data": {
      "text/html": [
       "<div>\n",
       "<style scoped>\n",
       "    .dataframe tbody tr th:only-of-type {\n",
       "        vertical-align: middle;\n",
       "    }\n",
       "\n",
       "    .dataframe tbody tr th {\n",
       "        vertical-align: top;\n",
       "    }\n",
       "\n",
       "    .dataframe thead th {\n",
       "        text-align: right;\n",
       "    }\n",
       "</style>\n",
       "<table border=\"1\" class=\"dataframe\">\n",
       "  <thead>\n",
       "    <tr style=\"text-align: right;\">\n",
       "      <th></th>\n",
       "      <th>Region</th>\n",
       "      <th>...</th>\n",
       "      <th>Team Color</th>\n",
       "    </tr>\n",
       "  </thead>\n",
       "  <tbody>\n",
       "    <tr>\n",
       "      <th>0</th>\n",
       "      <td>North</td>\n",
       "      <td>...</td>\n",
       "      <td>Red</td>\n",
       "    </tr>\n",
       "    <tr>\n",
       "      <th>...</th>\n",
       "      <td>...</td>\n",
       "      <td>...</td>\n",
       "      <td>...</td>\n",
       "    </tr>\n",
       "    <tr>\n",
       "      <th>7</th>\n",
       "      <td>South</td>\n",
       "      <td>...</td>\n",
       "      <td>Blue</td>\n",
       "    </tr>\n",
       "  </tbody>\n",
       "</table>\n",
       "<p>8 rows × 7 columns</p>\n",
       "</div>"
      ],
      "text/plain": [
       "   Region  ... Team Color\n",
       "0   North  ...        Red\n",
       "..    ...  ...        ...\n",
       "7   South  ...       Blue\n",
       "\n",
       "[8 rows x 7 columns]"
      ]
     },
     "execution_count": 72,
     "metadata": {},
     "output_type": "execute_result"
    }
   ],
   "source": [
    "df['Team Color'] = df['Team'].map(team_map)\n",
    "df"
   ]
  },
  {
   "cell_type": "code",
   "execution_count": 73,
   "id": "675612e7-dfbd-4c3a-820a-a91f07068f4e",
   "metadata": {},
   "outputs": [
    {
     "data": {
      "text/html": [
       "<div>\n",
       "<style scoped>\n",
       "    .dataframe tbody tr th:only-of-type {\n",
       "        vertical-align: middle;\n",
       "    }\n",
       "\n",
       "    .dataframe tbody tr th {\n",
       "        vertical-align: top;\n",
       "    }\n",
       "\n",
       "    .dataframe thead th {\n",
       "        text-align: right;\n",
       "    }\n",
       "</style>\n",
       "<table border=\"1\" class=\"dataframe\">\n",
       "  <thead>\n",
       "    <tr style=\"text-align: right;\">\n",
       "      <th></th>\n",
       "      <th>Region</th>\n",
       "      <th>...</th>\n",
       "      <th>Team Color</th>\n",
       "    </tr>\n",
       "  </thead>\n",
       "  <tbody>\n",
       "    <tr>\n",
       "      <th>0</th>\n",
       "      <td>5</td>\n",
       "      <td>...</td>\n",
       "      <td>3</td>\n",
       "    </tr>\n",
       "    <tr>\n",
       "      <th>...</th>\n",
       "      <td>...</td>\n",
       "      <td>...</td>\n",
       "      <td>...</td>\n",
       "    </tr>\n",
       "    <tr>\n",
       "      <th>7</th>\n",
       "      <td>5</td>\n",
       "      <td>...</td>\n",
       "      <td>4</td>\n",
       "    </tr>\n",
       "  </tbody>\n",
       "</table>\n",
       "<p>8 rows × 7 columns</p>\n",
       "</div>"
      ],
      "text/plain": [
       "    Region  ...  Team Color\n",
       "0        5  ...           3\n",
       "..     ...  ...         ...\n",
       "7        5  ...           4\n",
       "\n",
       "[8 rows x 7 columns]"
      ]
     },
     "execution_count": 73,
     "metadata": {},
     "output_type": "execute_result"
    }
   ],
   "source": [
    "df.map(lambda x: len(str(x)))"
   ]
  },
  {
   "cell_type": "code",
   "execution_count": 74,
   "id": "18427dd0-c92e-4446-9a79-71c9f0a4ff49",
   "metadata": {},
   "outputs": [],
   "source": [
    "new_col = []\n",
    "for i in range(0,len(df)):\n",
    "    rev = df['Revenue'][i]/df[df['Region']==df.loc[i,'Region']]['Revenue'].sum()\n",
    "    new_col.append(rev)"
   ]
  },
  {
   "cell_type": "code",
   "execution_count": 150,
   "id": "024ceb66-2d4f-4c69-afec-9ea8e87b4b0e",
   "metadata": {},
   "outputs": [
    {
     "data": {
      "text/html": [
       "<div>\n",
       "<style scoped>\n",
       "    .dataframe tbody tr th:only-of-type {\n",
       "        vertical-align: middle;\n",
       "    }\n",
       "\n",
       "    .dataframe tbody tr th {\n",
       "        vertical-align: top;\n",
       "    }\n",
       "\n",
       "    .dataframe thead th {\n",
       "        text-align: right;\n",
       "    }\n",
       "</style>\n",
       "<table border=\"1\" class=\"dataframe\">\n",
       "  <thead>\n",
       "    <tr style=\"text-align: right;\">\n",
       "      <th></th>\n",
       "      <th>Region</th>\n",
       "      <th>...</th>\n",
       "      <th>Revenue Share of region</th>\n",
       "    </tr>\n",
       "  </thead>\n",
       "  <tbody>\n",
       "    <tr>\n",
       "      <th>2</th>\n",
       "      <td>East</td>\n",
       "      <td>...</td>\n",
       "      <td>0.59</td>\n",
       "    </tr>\n",
       "    <tr>\n",
       "      <th>...</th>\n",
       "      <td>...</td>\n",
       "      <td>...</td>\n",
       "      <td>...</td>\n",
       "    </tr>\n",
       "    <tr>\n",
       "      <th>5</th>\n",
       "      <td>West</td>\n",
       "      <td>...</td>\n",
       "      <td>0.41</td>\n",
       "    </tr>\n",
       "  </tbody>\n",
       "</table>\n",
       "<p>8 rows × 8 columns</p>\n",
       "</div>"
      ],
      "text/plain": [
       "   Region  ... Revenue Share of region\n",
       "2    East  ...                    0.59\n",
       "..    ...  ...                     ...\n",
       "5    West  ...                    0.41\n",
       "\n",
       "[8 rows x 8 columns]"
      ]
     },
     "execution_count": 150,
     "metadata": {},
     "output_type": "execute_result"
    }
   ],
   "source": [
    "df['Revenue Share of region'] = new_col\n",
    "df.sort_values(by='Region')"
   ]
  },
  {
   "cell_type": "code",
   "execution_count": null,
   "id": "34ad10fa-933c-45da-b8e7-082894895040",
   "metadata": {},
   "outputs": [],
   "source": []
  }
 ],
 "metadata": {
  "kernelspec": {
   "display_name": "Python 3 (ipykernel)",
   "language": "python",
   "name": "python3"
  },
  "language_info": {
   "codemirror_mode": {
    "name": "ipython",
    "version": 3
   },
   "file_extension": ".py",
   "mimetype": "text/x-python",
   "name": "python",
   "nbconvert_exporter": "python",
   "pygments_lexer": "ipython3",
   "version": "3.12.4"
  },
  "panel-cell-order": [
   "d211a084-7371-4ea9-b9f7-63a8649332a7",
   "402b011c-0e2c-44c0-8409-1018870b044b",
   "ae126187-1e81-4847-96d2-986488a30f37",
   "950f7e04-2624-4765-bf7b-2c29c0e24006",
   "fe57cd13-5105-4c7a-8f5a-88107e38aec7",
   "45cc0157-fce4-4134-a812-a4eeba4c71fb",
   "177bb202-397b-42b0-86fc-2d6c91bf483e",
   "8808c6a1-ae0b-45ce-aafc-bad0452f759a",
   "939b5668-5da6-4ade-b182-ccaaf590c2af",
   "91be4d86-5f7a-4a45-a26e-065a8fc33ec8"
  ]
 },
 "nbformat": 4,
 "nbformat_minor": 5
}
